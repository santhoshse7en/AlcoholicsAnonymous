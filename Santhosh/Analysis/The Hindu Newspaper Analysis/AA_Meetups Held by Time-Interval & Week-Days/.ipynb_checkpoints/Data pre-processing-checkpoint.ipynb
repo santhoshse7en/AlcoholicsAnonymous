{
 "cells": [
  {
   "cell_type": "markdown",
   "metadata": {},
   "source": [
    "## Data Pre-Processing for creating AA_Meetups Dataset\n",
    "\n",
    "### The collected data undergoes through a series of steps during preprocessing\n",
    "\n",
    "* Data Cleaning\n",
    "* Data Integration\n",
    "* Data Transformation"
   ]
  },
  {
   "cell_type": "markdown",
   "metadata": {},
   "source": [
    "### Importing necessary Libraries"
   ]
  },
  {
   "cell_type": "code",
   "execution_count": 1,
   "metadata": {},
   "outputs": [],
   "source": [
    "from datetime import datetime # Date customization\n",
    "import itertools # iterators for efficient looping\n",
    "import pandas as pd # primary data structure library\n",
    "import re # match or find other strings or sets of strings\n",
    "import ast # Abstract Syntax Trees"
   ]
  },
  {
   "cell_type": "markdown",
   "metadata": {},
   "source": [
    "### Creating Empty lists for AA_Meetups data to be Filtered"
   ]
  },
  {
   "cell_type": "code",
   "execution_count": 2,
   "metadata": {},
   "outputs": [],
   "source": [
    "locations, days, dates, years, meetings, timings = [], [], [], [], [], []"
   ]
  },
  {
   "cell_type": "markdown",
   "metadata": {},
   "source": [
    "### Collected data ['The_Hindu.csv'] read into a pandas dataframe"
   ]
  },
  {
   "cell_type": "code",
   "execution_count": 3,
   "metadata": {},
   "outputs": [
    {
     "data": {
      "text/html": [
       "<div>\n",
       "<style scoped>\n",
       "    .dataframe tbody tr th:only-of-type {\n",
       "        vertical-align: middle;\n",
       "    }\n",
       "\n",
       "    .dataframe tbody tr th {\n",
       "        vertical-align: top;\n",
       "    }\n",
       "\n",
       "    .dataframe thead th {\n",
       "        text-align: right;\n",
       "    }\n",
       "</style>\n",
       "<table border=\"1\" class=\"dataframe\">\n",
       "  <thead>\n",
       "    <tr style=\"text-align: right;\">\n",
       "      <th></th>\n",
       "      <th>Headlines</th>\n",
       "      <th>Descriptions</th>\n",
       "      <th>Authors</th>\n",
       "      <th>Published_Dates</th>\n",
       "      <th>Articles</th>\n",
       "      <th>Source_URLs</th>\n",
       "    </tr>\n",
       "  </thead>\n",
       "  <tbody>\n",
       "    <tr>\n",
       "      <th>0</th>\n",
       "      <td>Engagements for Thursday, April 18</td>\n",
       "      <td>RELIGION Ramayanam: Akkaraikeni Srinidhi, Sri ...</td>\n",
       "      <td>NaN</td>\n",
       "      <td>18-Apr-19</td>\n",
       "      <td>RELIGIONRamayanam: Akkaraikeni Srinidhi, Sri R...</td>\n",
       "      <td>https://www.thehindu.com/news/cities/chennai/e...</td>\n",
       "    </tr>\n",
       "    <tr>\n",
       "      <th>1</th>\n",
       "      <td>Madurai Today - April18, 2019</td>\n",
       "      <td>RELIGION Selva Vinayagar Temple: Chitra Pourna...</td>\n",
       "      <td>NaN</td>\n",
       "      <td>18-Apr-19</td>\n",
       "      <td>RELIGIONSelva Vinayagar Temple:Chitra Pournami...</td>\n",
       "      <td>https://www.thehindu.com/todays-paper/tp-natio...</td>\n",
       "    </tr>\n",
       "    <tr>\n",
       "      <th>2</th>\n",
       "      <td>engagements</td>\n",
       "      <td>TIRUNELVELI Alcoholics Anonymous and Al-Anon: ...</td>\n",
       "      <td>NaN</td>\n",
       "      <td>18-Apr-19</td>\n",
       "      <td>TIRUNELVELIAlcoholics Anonymous and Al-Anon:Re...</td>\n",
       "      <td>https://www.thehindu.com/todays-paper/tp-natio...</td>\n",
       "    </tr>\n",
       "    <tr>\n",
       "      <th>3</th>\n",
       "      <td>Madurai Today - April18, 2019</td>\n",
       "      <td>RELIGIONSelva Vinayagar Temple: Chitra Pournam...</td>\n",
       "      <td>NaN</td>\n",
       "      <td>17-Apr-19</td>\n",
       "      <td>RELIGIONSelva Vinayagar Temple: Chitra Pournam...</td>\n",
       "      <td>https://www.thehindu.com/events/madurai-today-...</td>\n",
       "    </tr>\n",
       "    <tr>\n",
       "      <th>4</th>\n",
       "      <td>Madurai Today</td>\n",
       "      <td>RELIGION Selva Vinayagar Temple: Pradosha puja...</td>\n",
       "      <td>Special Correspondent</td>\n",
       "      <td>17-Apr-19</td>\n",
       "      <td>RELIGIONSelva Vinayagar Temple:Pradosha puja, ...</td>\n",
       "      <td>https://www.thehindu.com/todays-paper/tp-natio...</td>\n",
       "    </tr>\n",
       "  </tbody>\n",
       "</table>\n",
       "</div>"
      ],
      "text/plain": [
       "                            Headlines  \\\n",
       "0  Engagements for Thursday, April 18   \n",
       "1       Madurai Today - April18, 2019   \n",
       "2                         engagements   \n",
       "3       Madurai Today - April18, 2019   \n",
       "4                       Madurai Today   \n",
       "\n",
       "                                        Descriptions                Authors  \\\n",
       "0  RELIGION Ramayanam: Akkaraikeni Srinidhi, Sri ...                    NaN   \n",
       "1  RELIGION Selva Vinayagar Temple: Chitra Pourna...                    NaN   \n",
       "2  TIRUNELVELI Alcoholics Anonymous and Al-Anon: ...                    NaN   \n",
       "3  RELIGIONSelva Vinayagar Temple: Chitra Pournam...                    NaN   \n",
       "4  RELIGION Selva Vinayagar Temple: Pradosha puja...  Special Correspondent   \n",
       "\n",
       "  Published_Dates                                           Articles  \\\n",
       "0       18-Apr-19  RELIGIONRamayanam: Akkaraikeni Srinidhi, Sri R...   \n",
       "1       18-Apr-19  RELIGIONSelva Vinayagar Temple:Chitra Pournami...   \n",
       "2       18-Apr-19  TIRUNELVELIAlcoholics Anonymous and Al-Anon:Re...   \n",
       "3       17-Apr-19  RELIGIONSelva Vinayagar Temple: Chitra Pournam...   \n",
       "4       17-Apr-19  RELIGIONSelva Vinayagar Temple:Pradosha puja, ...   \n",
       "\n",
       "                                         Source_URLs  \n",
       "0  https://www.thehindu.com/news/cities/chennai/e...  \n",
       "1  https://www.thehindu.com/todays-paper/tp-natio...  \n",
       "2  https://www.thehindu.com/todays-paper/tp-natio...  \n",
       "3  https://www.thehindu.com/events/madurai-today-...  \n",
       "4  https://www.thehindu.com/todays-paper/tp-natio...  "
      ]
     },
     "execution_count": 3,
     "metadata": {},
     "output_type": "execute_result"
    }
   ],
   "source": [
    "df = pd.read_csv('The_Hindu.csv') # Data read into a pandas dataframe\n",
    "df.head()"
   ]
  },
  {
   "cell_type": "markdown",
   "metadata": {},
   "source": [
    "### size of initial dataframe (rows, columns)"
   ]
  },
  {
   "cell_type": "code",
   "execution_count": 4,
   "metadata": {},
   "outputs": [
    {
     "data": {
      "text/plain": [
       "(11842, 6)"
      ]
     },
     "execution_count": 4,
     "metadata": {},
     "output_type": "execute_result"
    }
   ],
   "source": [
    "df.shape"
   ]
  },
  {
   "cell_type": "markdown",
   "metadata": {},
   "source": [
    "### Cleaning the data by droping the missing values and creating new dataframe consist of Alcoholics Anonymous Articles"
   ]
  },
  {
   "cell_type": "code",
   "execution_count": 5,
   "metadata": {},
   "outputs": [
    {
     "data": {
      "text/html": [
       "<div>\n",
       "<style scoped>\n",
       "    .dataframe tbody tr th:only-of-type {\n",
       "        vertical-align: middle;\n",
       "    }\n",
       "\n",
       "    .dataframe tbody tr th {\n",
       "        vertical-align: top;\n",
       "    }\n",
       "\n",
       "    .dataframe thead th {\n",
       "        text-align: right;\n",
       "    }\n",
       "</style>\n",
       "<table border=\"1\" class=\"dataframe\">\n",
       "  <thead>\n",
       "    <tr style=\"text-align: right;\">\n",
       "      <th></th>\n",
       "      <th>Headlines</th>\n",
       "      <th>Descriptions</th>\n",
       "      <th>Authors</th>\n",
       "      <th>Published_Dates</th>\n",
       "      <th>Articles</th>\n",
       "      <th>Source_URLs</th>\n",
       "    </tr>\n",
       "  </thead>\n",
       "  <tbody>\n",
       "    <tr>\n",
       "      <th>0</th>\n",
       "      <td>Engagements for Thursday, April 18</td>\n",
       "      <td>RELIGION Ramayanam: Akkaraikeni Srinidhi, Sri ...</td>\n",
       "      <td>NaN</td>\n",
       "      <td>18-Apr-19</td>\n",
       "      <td>RELIGIONRamayanam: Akkaraikeni Srinidhi, Sri R...</td>\n",
       "      <td>https://www.thehindu.com/news/cities/chennai/e...</td>\n",
       "    </tr>\n",
       "    <tr>\n",
       "      <th>1</th>\n",
       "      <td>Madurai Today - April18, 2019</td>\n",
       "      <td>RELIGION Selva Vinayagar Temple: Chitra Pourna...</td>\n",
       "      <td>NaN</td>\n",
       "      <td>18-Apr-19</td>\n",
       "      <td>RELIGIONSelva Vinayagar Temple:Chitra Pournami...</td>\n",
       "      <td>https://www.thehindu.com/todays-paper/tp-natio...</td>\n",
       "    </tr>\n",
       "    <tr>\n",
       "      <th>2</th>\n",
       "      <td>engagements</td>\n",
       "      <td>TIRUNELVELI Alcoholics Anonymous and Al-Anon: ...</td>\n",
       "      <td>NaN</td>\n",
       "      <td>18-Apr-19</td>\n",
       "      <td>TIRUNELVELIAlcoholics Anonymous and Al-Anon:Re...</td>\n",
       "      <td>https://www.thehindu.com/todays-paper/tp-natio...</td>\n",
       "    </tr>\n",
       "    <tr>\n",
       "      <th>3</th>\n",
       "      <td>Madurai Today - April18, 2019</td>\n",
       "      <td>RELIGIONSelva Vinayagar Temple: Chitra Pournam...</td>\n",
       "      <td>NaN</td>\n",
       "      <td>17-Apr-19</td>\n",
       "      <td>RELIGIONSelva Vinayagar Temple: Chitra Pournam...</td>\n",
       "      <td>https://www.thehindu.com/events/madurai-today-...</td>\n",
       "    </tr>\n",
       "    <tr>\n",
       "      <th>4</th>\n",
       "      <td>Madurai Today</td>\n",
       "      <td>RELIGION Selva Vinayagar Temple: Pradosha puja...</td>\n",
       "      <td>Special Correspondent</td>\n",
       "      <td>17-Apr-19</td>\n",
       "      <td>RELIGIONSelva Vinayagar Temple:Pradosha puja, ...</td>\n",
       "      <td>https://www.thehindu.com/todays-paper/tp-natio...</td>\n",
       "    </tr>\n",
       "  </tbody>\n",
       "</table>\n",
       "</div>"
      ],
      "text/plain": [
       "                            Headlines  \\\n",
       "0  Engagements for Thursday, April 18   \n",
       "1       Madurai Today - April18, 2019   \n",
       "2                         engagements   \n",
       "3       Madurai Today - April18, 2019   \n",
       "4                       Madurai Today   \n",
       "\n",
       "                                        Descriptions                Authors  \\\n",
       "0  RELIGION Ramayanam: Akkaraikeni Srinidhi, Sri ...                    NaN   \n",
       "1  RELIGION Selva Vinayagar Temple: Chitra Pourna...                    NaN   \n",
       "2  TIRUNELVELI Alcoholics Anonymous and Al-Anon: ...                    NaN   \n",
       "3  RELIGIONSelva Vinayagar Temple: Chitra Pournam...                    NaN   \n",
       "4  RELIGION Selva Vinayagar Temple: Pradosha puja...  Special Correspondent   \n",
       "\n",
       "  Published_Dates                                           Articles  \\\n",
       "0       18-Apr-19  RELIGIONRamayanam: Akkaraikeni Srinidhi, Sri R...   \n",
       "1       18-Apr-19  RELIGIONSelva Vinayagar Temple:Chitra Pournami...   \n",
       "2       18-Apr-19  TIRUNELVELIAlcoholics Anonymous and Al-Anon:Re...   \n",
       "3       17-Apr-19  RELIGIONSelva Vinayagar Temple: Chitra Pournam...   \n",
       "4       17-Apr-19  RELIGIONSelva Vinayagar Temple:Pradosha puja, ...   \n",
       "\n",
       "                                         Source_URLs  \n",
       "0  https://www.thehindu.com/news/cities/chennai/e...  \n",
       "1  https://www.thehindu.com/todays-paper/tp-natio...  \n",
       "2  https://www.thehindu.com/todays-paper/tp-natio...  \n",
       "3  https://www.thehindu.com/events/madurai-today-...  \n",
       "4  https://www.thehindu.com/todays-paper/tp-natio...  "
      ]
     },
     "execution_count": 5,
     "metadata": {},
     "output_type": "execute_result"
    }
   ],
   "source": [
    "meet_df = df[df['Articles'].str.contains('Alcoholics', case=False, na=False)]\n",
    "meet_df.head()"
   ]
  },
  {
   "cell_type": "markdown",
   "metadata": {},
   "source": [
    "### size of filtered dataframe (rows, columns)"
   ]
  },
  {
   "cell_type": "code",
   "execution_count": 6,
   "metadata": {},
   "outputs": [
    {
     "data": {
      "text/plain": [
       "(11191, 6)"
      ]
     },
     "execution_count": 6,
     "metadata": {},
     "output_type": "execute_result"
    }
   ],
   "source": [
    "meet_df.shape"
   ]
  },
  {
   "cell_type": "markdown",
   "metadata": {},
   "source": [
    "### Using regex, extracting the Alcoholics Anonymous Meetings from the Articles column"
   ]
  },
  {
   "cell_type": "code",
   "execution_count": 7,
   "metadata": {},
   "outputs": [],
   "source": [
    "for meeting in meet_df['Articles']:\n",
    "    try:\n",
    "        meetings.append(re.findall(\"Alcoholics.*$\",meeting,re.MULTILINE)[0])\n",
    "    except:\n",
    "        meetings.append(None)"
   ]
  },
  {
   "cell_type": "markdown",
   "metadata": {},
   "source": [
    "### Filtering out the times from the Alcoholics Anonymous Meetings Schedule"
   ]
  },
  {
   "cell_type": "code",
   "execution_count": 8,
   "metadata": {},
   "outputs": [],
   "source": [
    "for item in meet_df['Articles']:\n",
    "    try:\n",
    "        a = re.findall(r'\\s(\\d{2}\\.\\d{2}\\s?(?:am.|pm.|a.m.|p.m.))|\\s(\\d{1}\\s?(?:am.|pm.|a.m.|p.m.))|\\s(\\d{2}\\s?(?:am.|pm.|a.m.|p.m.))|\\s(\\d{1}\\.\\d{2}\\s?(?:am.|pm.|a.m.|p.m.))|\\s(\\d{2}\\.\\d{1}\\s?(?:am.|pm.|a.m.|p.m.))', item)\n",
    "        str_list = list(itertools.chain(*a))\n",
    "        timings.append(list(filter(None, str_list)))\n",
    "    except:\n",
    "        timings.append(None)"
   ]
  },
  {
   "cell_type": "markdown",
   "metadata": {},
   "source": [
    "### With the help of Headlines Column filtering the published region "
   ]
  },
  {
   "cell_type": "code",
   "execution_count": 9,
   "metadata": {},
   "outputs": [],
   "source": [
    "for headline in meet_df['Headlines']:\n",
    "    if 'engagements' in headline.lower():\n",
    "        locations.append('engagements')\n",
    "    elif 'chennai' in headline.lower():\n",
    "        locations.append('chennai')\n",
    "    elif 'madurai' in headline.lower():\n",
    "        locations.append('madurai')\n",
    "    elif 'thiruvananthapuram' in headline.lower():\n",
    "        locations.append('thiruvananthapuram')\n",
    "    elif 'tirunelveli' in headline.lower():\n",
    "        locations.append('tirunelveli')\n",
    "    elif 'coimbatore' or 'caoimbatore' in headline.lower():\n",
    "        locations.append('coimbatore')\n",
    "    elif 'hyderabad' in headline.lower():\n",
    "        locations.append('hyderabad')\n",
    "    elif 'new delhi' in headline.lower():\n",
    "        locations.append('new delhi')\n",
    "    elif 'tirupur' in headline.lower():\n",
    "        locations.append('tirupur')\n",
    "    elif 'tiruchi' in headline.lower():\n",
    "        locations.append('tiruchi')\n",
    "    elif 'vijayawada' in headline.lower():\n",
    "        locations.append('vijayawada')\n",
    "    elif 'dindugul' in headline.lower():\n",
    "        locations.append('dindugul')\n",
    "    elif 'kochi' in headline.lower():\n",
    "        locations.append('kochi')\n",
    "    elif 'nellai' in headline.lower():\n",
    "        locations.append('nellai')\n",
    "    elif 'kozhikode' in headline.lower():\n",
    "        locations.append('kozhikode')\n",
    "    elif 'Tuticorin' in headline.lower():\n",
    "        locations.append('Tuticorin')\n",
    "    elif 'mangalore' in headline.lower():\n",
    "        locations.append('mangalore')\n",
    "    else:\n",
    "        locations.append(None)"
   ]
  },
  {
   "cell_type": "markdown",
   "metadata": {},
   "source": [
    "### Extracting the Day in the AA_Meetups held"
   ]
  },
  {
   "cell_type": "code",
   "execution_count": 10,
   "metadata": {},
   "outputs": [],
   "source": [
    "for date in meet_df['Published_Dates']:\n",
    "    x = datetime.strptime(date, '%d-%b-%y')\n",
    "    days.append(x.strftime('%A'))"
   ]
  },
  {
   "cell_type": "markdown",
   "metadata": {},
   "source": [
    "### Extracting the Date in the AA_Meetups held"
   ]
  },
  {
   "cell_type": "code",
   "execution_count": 11,
   "metadata": {},
   "outputs": [],
   "source": [
    "dates = []\n",
    "for date in meet_df['Published_Dates']:\n",
    "    x = datetime.strptime(date, '%d-%b-%y')\n",
    "    dates.append(x.strftime('%d-%m-%y'))"
   ]
  },
  {
   "cell_type": "markdown",
   "metadata": {},
   "source": [
    "### Extracting the Year in the AA_Meetups held"
   ]
  },
  {
   "cell_type": "code",
   "execution_count": 12,
   "metadata": {},
   "outputs": [],
   "source": [
    "for date in meet_df['Published_Dates']:\n",
    "    x = datetime.strptime(date, '%d-%b-%y')\n",
    "    years.append(x.strftime('%Y'))"
   ]
  },
  {
   "cell_type": "markdown",
   "metadata": {},
   "source": [
    "### Checking Array Length of each list to create DataFrame"
   ]
  },
  {
   "cell_type": "code",
   "execution_count": 13,
   "metadata": {},
   "outputs": [
    {
     "name": "stdout",
     "output_type": "stream",
     "text": [
      "11191 11191 11191 11191 11191 11191\n"
     ]
    }
   ],
   "source": [
    "print(len(locations), len(days),  len(dates),  len(meetings), len(years), len(timings))"
   ]
  },
  {
   "cell_type": "markdown",
   "metadata": {},
   "source": [
    "### Creating a csv file after validating array length"
   ]
  },
  {
   "cell_type": "code",
   "execution_count": 14,
   "metadata": {},
   "outputs": [
    {
     "data": {
      "text/html": [
       "<div>\n",
       "<style scoped>\n",
       "    .dataframe tbody tr th:only-of-type {\n",
       "        vertical-align: middle;\n",
       "    }\n",
       "\n",
       "    .dataframe tbody tr th {\n",
       "        vertical-align: top;\n",
       "    }\n",
       "\n",
       "    .dataframe thead th {\n",
       "        text-align: right;\n",
       "    }\n",
       "</style>\n",
       "<table border=\"1\" class=\"dataframe\">\n",
       "  <thead>\n",
       "    <tr style=\"text-align: right;\">\n",
       "      <th></th>\n",
       "      <th>Published_Region</th>\n",
       "      <th>Day</th>\n",
       "      <th>Published_Date</th>\n",
       "      <th>Year</th>\n",
       "      <th>Meetings</th>\n",
       "      <th>Timings</th>\n",
       "    </tr>\n",
       "  </thead>\n",
       "  <tbody>\n",
       "    <tr>\n",
       "      <th>0</th>\n",
       "      <td>engagements</td>\n",
       "      <td>Thursday</td>\n",
       "      <td>18-04-19</td>\n",
       "      <td>2019</td>\n",
       "      <td>Alcoholics Anonymous: Meetings, Church of Chri...</td>\n",
       "      <td>[6.30 p.mn, 7 p.m., 7 p.m., 7 p.m., 7 p.m., 7 ...</td>\n",
       "    </tr>\n",
       "    <tr>\n",
       "      <th>1</th>\n",
       "      <td>madurai</td>\n",
       "      <td>Thursday</td>\n",
       "      <td>18-04-19</td>\n",
       "      <td>2019</td>\n",
       "      <td>Alcoholics Anonymous:Meeting; Dheep Hospital, ...</td>\n",
       "      <td>[7 p.m., 5.45 a.m., 7 p.m., 6 a.m., 9 a.m., 5 ...</td>\n",
       "    </tr>\n",
       "    <tr>\n",
       "      <th>2</th>\n",
       "      <td>engagements</td>\n",
       "      <td>Thursday</td>\n",
       "      <td>18-04-19</td>\n",
       "      <td>2019</td>\n",
       "      <td>Alcoholics Anonymous and Al-Anon:Regular meeti...</td>\n",
       "      <td>[7 p.m.]</td>\n",
       "    </tr>\n",
       "    <tr>\n",
       "      <th>3</th>\n",
       "      <td>madurai</td>\n",
       "      <td>Wednesday</td>\n",
       "      <td>17-04-19</td>\n",
       "      <td>2019</td>\n",
       "      <td>Alcoholics Anonymous: Meeting; Dheep Hospital,...</td>\n",
       "      <td>[7 p.m., 5.45 a.m., 7 p.m., 6 a.m., 9 a.m., 5 ...</td>\n",
       "    </tr>\n",
       "    <tr>\n",
       "      <th>4</th>\n",
       "      <td>madurai</td>\n",
       "      <td>Wednesday</td>\n",
       "      <td>17-04-19</td>\n",
       "      <td>2019</td>\n",
       "      <td>Alcoholics Anonymous:Meeting; R. C. Church, Si...</td>\n",
       "      <td>[4.30 p.m., 4 a.m., 7.30 p.m., 9.50 a.m., 11 a...</td>\n",
       "    </tr>\n",
       "  </tbody>\n",
       "</table>\n",
       "</div>"
      ],
      "text/plain": [
       "  Published_Region        Day Published_Date  Year  \\\n",
       "0      engagements   Thursday       18-04-19  2019   \n",
       "1          madurai   Thursday       18-04-19  2019   \n",
       "2      engagements   Thursday       18-04-19  2019   \n",
       "3          madurai  Wednesday       17-04-19  2019   \n",
       "4          madurai  Wednesday       17-04-19  2019   \n",
       "\n",
       "                                            Meetings  \\\n",
       "0  Alcoholics Anonymous: Meetings, Church of Chri...   \n",
       "1  Alcoholics Anonymous:Meeting; Dheep Hospital, ...   \n",
       "2  Alcoholics Anonymous and Al-Anon:Regular meeti...   \n",
       "3  Alcoholics Anonymous: Meeting; Dheep Hospital,...   \n",
       "4  Alcoholics Anonymous:Meeting; R. C. Church, Si...   \n",
       "\n",
       "                                             Timings  \n",
       "0  [6.30 p.mn, 7 p.m., 7 p.m., 7 p.m., 7 p.m., 7 ...  \n",
       "1  [7 p.m., 5.45 a.m., 7 p.m., 6 a.m., 9 a.m., 5 ...  \n",
       "2                                           [7 p.m.]  \n",
       "3  [7 p.m., 5.45 a.m., 7 p.m., 6 a.m., 9 a.m., 5 ...  \n",
       "4  [4.30 p.m., 4 a.m., 7.30 p.m., 9.50 a.m., 11 a...  "
      ]
     },
     "execution_count": 14,
     "metadata": {},
     "output_type": "execute_result"
    }
   ],
   "source": [
    "df = pd.DataFrame({'Published_Region' : locations,\n",
    "                   'Day' : days, \n",
    "                   'Published_Date' : dates,\n",
    "                   'Year' : years,\n",
    "                   'Meetings' : meetings,\n",
    "                   'Timings' : timings})\n",
    "\n",
    "df.to_csv('AA_Meets.csv', index=False)\n",
    "df.head()"
   ]
  }
 ],
 "metadata": {
  "kernelspec": {
   "display_name": "Python 3",
   "language": "python",
   "name": "python3"
  },
  "language_info": {
   "codemirror_mode": {
    "name": "ipython",
    "version": 3
   },
   "file_extension": ".py",
   "mimetype": "text/x-python",
   "name": "python",
   "nbconvert_exporter": "python",
   "pygments_lexer": "ipython3",
   "version": "3.7.1"
  }
 },
 "nbformat": 4,
 "nbformat_minor": 2
}
