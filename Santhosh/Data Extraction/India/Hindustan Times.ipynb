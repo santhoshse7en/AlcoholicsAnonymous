{
 "cells": [
  {
   "cell_type": "markdown",
   "metadata": {},
   "source": [
    "## Alcholic Anonymous News articles extraction from Hindustan Times. Data Extraction of following parameters\n",
    "- Headline\n",
    "- Description\n",
    "- Author\n",
    "- Published Date\n",
    "- Category\n",
    "- Publication\n",
    "- News\n",
    "- URL\n",
    "- Keywords\n",
    "- Summary\n",
    "\n",
    "### Importing the necessary Libraries"
   ]
  },
  {
   "cell_type": "code",
   "execution_count": 1,
   "metadata": {},
   "outputs": [],
   "source": [
    "from selenium.webdriver.chrome.options import Options # enables options in web browser\n",
    "from selenium import webdriver # web-based automation tool for Python\n",
    "from newspaper import Article # Article scraping & curation\n",
    "from bs4 import BeautifulSoup # Python library for pulling data out of HTML and XML files\n",
    "from requests import get # standard for making HTTP requests in Python\n",
    "import pandas as pd # library written for data manipulation and analysis\n",
    "import sys, time #  System-specific parameters and functions"
   ]
  },
  {
   "cell_type": "markdown",
   "metadata": {},
   "source": [
    "### Creating Empty lists for Alcholic Anonymous News Articles parameters data to be extracted"
   ]
  },
  {
   "cell_type": "code",
   "execution_count": 2,
   "metadata": {},
   "outputs": [],
   "source": [
    "headlines, descriptions, dates, authors, news, keywords, summaries, urls, category, publication = [], [], [], [], [], [], [], [], [], []"
   ]
  },
  {
   "cell_type": "markdown",
   "metadata": {},
   "source": [
    "### Finding the total no.of.pages by total no.of articles from google search results¶"
   ]
  },
  {
   "cell_type": "code",
   "execution_count": 3,
   "metadata": {},
   "outputs": [],
   "source": [
    "keyword = 'Alcoholics Anonymous site:www.hindustantimes.com'\n",
    "\n",
    "url = 'https://www.google.com/search?q=' + '+'.join(keyword.split())\n",
    "\n",
    "soup = BeautifulSoup(get(url).text, 'lxml')\n",
    "try:\n",
    "    # Extracts the digits if it the resulted number without comma ','. eg: About 680 results (0.23 seconds)\n",
    "    max_pages = round([int(s) for s in soup.select_one('div#resultStats').text.split() if s.isdigit()][0]/10)\n",
    "    max_pages = max_pages + 1\n",
    "except:\n",
    "    # Extracts the digits if it the resulted number without comma ','. eg: About 1,080 results (0.23 seconds)\n",
    "    max_pages = round(int(''.join(i for i in soup.select_one('div#resultStats').text if i.isdigit()))/10)\n",
    "    max_pages = max_pages + 1"
   ]
  },
  {
   "cell_type": "markdown",
   "metadata": {},
   "source": [
    "### Iterates max_pages value through while loop. Scraping the Articles urls"
   ]
  },
  {
   "cell_type": "code",
   "execution_count": 4,
   "metadata": {},
   "outputs": [
    {
     "name": "stdout",
     "output_type": "stream",
     "text": [
      "6 : 10\r"
     ]
    }
   ],
   "source": [
    "options = Options()\n",
    "options.headless = True\n",
    "browser = webdriver.Chrome(options=options)\n",
    "browser.get(url)\n",
    "\n",
    "index = 0\n",
    "\n",
    "while True:\n",
    "    try:\n",
    "        index +=1\n",
    "        page = browser.page_source\n",
    "        soup = BeautifulSoup(page, 'lxml')\n",
    "        linky = [soup.select('.r')[i].a['href'] for i in range(len(soup.select('.r')))]\n",
    "        urls.extend(linky)\n",
    "        if index == max_pages:\n",
    "            break\n",
    "        browser.find_element_by_xpath('//*[@id=\"pnnext\"]/span[2]').click()\n",
    "        time.sleep(2)\n",
    "        sys.stdout.write('\\r' + str(index) + ' : ' + str(max_pages) + '\\r')\n",
    "        sys.stdout.flush()\n",
    "    except:\n",
    "        pass\n",
    "    \n",
    "browser.quit()"
   ]
  },
  {
   "cell_type": "markdown",
   "metadata": {},
   "source": [
    "### To remove duplicates urls entries in the list by executing below line"
   ]
  },
  {
   "cell_type": "code",
   "execution_count": 5,
   "metadata": {},
   "outputs": [
    {
     "name": "stdout",
     "output_type": "stream",
     "text": [
      "Total Extracted URL's are : 60 <class 'list'>\n"
     ]
    }
   ],
   "source": [
    "urls = list(dict.fromkeys(urls))\n",
    "print(\"Total Extracted URL's are\" + ' : ' + str(len(urls)), type(urls))"
   ]
  },
  {
   "cell_type": "markdown",
   "metadata": {},
   "source": [
    "### Iterates urls through for loop. Scraping the Articles with above parameters"
   ]
  },
  {
   "cell_type": "code",
   "execution_count": 6,
   "metadata": {},
   "outputs": [
    {
     "name": "stdout",
     "output_type": "stream",
     "text": [
      "Wall time: 3min 49sndustantimes.com/dehradun/traders-in-uttarakhand-feel-heat-as-liquor-sales-miss-target/story-MH36xFPYFnWGP26hP1lQ3M.htmlmawHtjPcsKBL.html.htmlyyHHiV4M.html\n"
     ]
    }
   ],
   "source": [
    "%%time\n",
    "for index, url in enumerate(urls):\n",
    "    try:\n",
    "        # Parse the url to NewsPlease \n",
    "        soup = BeautifulSoup(get(url).text, 'lxml')\n",
    "        article = Article(url)\n",
    "        article.download()\n",
    "        article.parse()\n",
    "        article.nlp()\n",
    "        \n",
    "        # Extracts the Headlines\n",
    "        try:\n",
    "            try:\n",
    "                headlines.append(article.title.strip())\n",
    "            except:\n",
    "                headlines.append(soup.select_one('meta[property=\"og:title\"]')['content'].strip())\n",
    "        except:\n",
    "            headlines.append(None)\n",
    "            \n",
    "        # Extracts the Descriptions    \n",
    "        try:\n",
    "            try:\n",
    "                descriptions.append(soup.select_one('meta[property=\"og:description\"]')['content'].strip().replace('\\n', ' '))\n",
    "            except:\n",
    "                descriptions.append(article.meta_description.strip())\n",
    "        except:\n",
    "            descriptions.append(None)\n",
    "            \n",
    "        # Extracts the Authors\n",
    "        try:\n",
    "            try:\n",
    "                authors.append(soup.select_one('meta[name=\"author\"]')['content'].strip())\n",
    "            except:\n",
    "                authors.append(article.authors.strip())\n",
    "        except:\n",
    "            authors.append(None)\n",
    "        \n",
    "        # Extracts the published dates\n",
    "        try:\n",
    "            try:\n",
    "                dates.append(soup.select_one('meta[property=\"article:published_time\"]')['content'].strip())\n",
    "            except:\n",
    "                dates.append(str(article.publish_date))\n",
    "        except:\n",
    "            dates.append(None)\n",
    "            \n",
    "        # Extracts the news articles\n",
    "        try:\n",
    "            try:\n",
    "                news.append(' '.join(soup.select_one('.storyText').text.split()).replace('\\n', '').strip())\n",
    "            except:\n",
    "                news.append(' '.join(article.text.split()).replace(\"\\'\\'\",\" \").replace(\"\\'\", \"\").replace(\" / \", \"\"))\n",
    "        except:\n",
    "            news.append(None)\n",
    "            \n",
    "        # Extracts the news category\n",
    "        try:\n",
    "            category.append(article.meta_data['category'])\n",
    "        except:\n",
    "            category.append(None)\n",
    "            \n",
    "        # Extracts the news publication\n",
    "        try:\n",
    "            publication.append(article.meta_data['og']['site_name'])\n",
    "        except:\n",
    "            publication.append(None)\n",
    "\n",
    "        # Extracts Keywords and Summaries\n",
    "        try:\n",
    "            keywords.append(article.keywords)\n",
    "            summaries.append(article.summary)\n",
    "        except:\n",
    "            keywords.append(None)\n",
    "            summaries.append(None)\n",
    "                        \n",
    "    except:\n",
    "        headlines.append(None)\n",
    "        descriptions.append(None)\n",
    "        authors.append(None)\n",
    "        dates.append(None)\n",
    "        category.append(None)\n",
    "        publication.append(None)\n",
    "        news.append(None)\n",
    "        keywords.append(None)\n",
    "        summaries.append(None)\n",
    "\n",
    "    sys.stdout.write('\\r' + str(index) + ' : ' + str(url) + '\\r')\n",
    "    sys.stdout.flush()"
   ]
  },
  {
   "cell_type": "markdown",
   "metadata": {},
   "source": [
    "### Checking Array Length of each list to create DataFrame"
   ]
  },
  {
   "cell_type": "code",
   "execution_count": 7,
   "metadata": {},
   "outputs": [
    {
     "name": "stdout",
     "output_type": "stream",
     "text": [
      "60 60 60 60 60 60 60 60 60 60\n"
     ]
    }
   ],
   "source": [
    "print(len(headlines), len(descriptions), len(authors), len(dates), len(category), len(publication), len(news), len(keywords), len(summaries), len(urls))"
   ]
  },
  {
   "cell_type": "markdown",
   "metadata": {},
   "source": [
    "### Creating a csv file after checking array length and droping the missing values from the dataset"
   ]
  },
  {
   "cell_type": "code",
   "execution_count": 8,
   "metadata": {},
   "outputs": [
    {
     "data": {
      "text/html": [
       "<div>\n",
       "<style scoped>\n",
       "    .dataframe tbody tr th:only-of-type {\n",
       "        vertical-align: middle;\n",
       "    }\n",
       "\n",
       "    .dataframe tbody tr th {\n",
       "        vertical-align: top;\n",
       "    }\n",
       "\n",
       "    .dataframe thead th {\n",
       "        text-align: right;\n",
       "    }\n",
       "</style>\n",
       "<table border=\"1\" class=\"dataframe\">\n",
       "  <thead>\n",
       "    <tr style=\"text-align: right;\">\n",
       "      <th></th>\n",
       "      <th>Headlines</th>\n",
       "      <th>Descriptions</th>\n",
       "      <th>Authors</th>\n",
       "      <th>Published_Dates</th>\n",
       "      <th>Publication</th>\n",
       "      <th>Articles</th>\n",
       "      <th>category</th>\n",
       "      <th>Keywords</th>\n",
       "      <th>Summaries</th>\n",
       "      <th>Source_URLs</th>\n",
       "    </tr>\n",
       "  </thead>\n",
       "  <tbody>\n",
       "    <tr>\n",
       "      <th>0</th>\n",
       "      <td>Women alcoholics on the rise in Delhi, and acr...</td>\n",
       "      <td>States like Kerala, Andhra Pradesh, Manipur, M...</td>\n",
       "      <td>None</td>\n",
       "      <td>2017-12-10T08:05Z</td>\n",
       "      <td>https://www.hindustantimes.com/</td>\n",
       "      <td>When a sexagenarian wobbled up to the podium a...</td>\n",
       "      <td>{}</td>\n",
       "      <td>[alcoholics, think, rise, help, drink, problem...</td>\n",
       "      <td>According to members of Shakti, the Delhi grou...</td>\n",
       "      <td>https://www.hindustantimes.com/delhi-news/wome...</td>\n",
       "    </tr>\n",
       "    <tr>\n",
       "      <th>1</th>\n",
       "      <td>Narcotics Anonmyous helps kick drug addiction,...</td>\n",
       "      <td>Narcotics Anonymous is a non-profit, internati...</td>\n",
       "      <td>None</td>\n",
       "      <td>2015-12-06T14:10Z</td>\n",
       "      <td>https://www.hindustantimes.com/</td>\n",
       "      <td>He was only eight when his father handed him h...</td>\n",
       "      <td>{}</td>\n",
       "      <td>[meetings, addiction, members, hands, helps, l...</td>\n",
       "      <td>That was till he found solace in Narcotics Ano...</td>\n",
       "      <td>https://www.hindustantimes.com/delhi/narcotics...</td>\n",
       "    </tr>\n",
       "    <tr>\n",
       "      <th>2</th>\n",
       "      <td>The destroyer of all that is… good</td>\n",
       "      <td>Fire gives us warmth, but it also burns us. We...</td>\n",
       "      <td>None</td>\n",
       "      <td>2012-07-01T23:11Z</td>\n",
       "      <td>https://www.hindustantimes.com/</td>\n",
       "      <td>Fire gives us warmth, but it also burns us. We...</td>\n",
       "      <td>{}</td>\n",
       "      <td>[unable, consumed, start, cut, drink, person, ...</td>\n",
       "      <td>Eye-Opener: Have you now reached a stage in yo...</td>\n",
       "      <td>https://www.hindustantimes.com/columns/the-des...</td>\n",
       "    </tr>\n",
       "    <tr>\n",
       "      <th>3</th>\n",
       "      <td>Benefits of AA Meetings</td>\n",
       "      <td>The fact that many have won the battle over th...</td>\n",
       "      <td>None</td>\n",
       "      <td>2003-06-28T21:20Z</td>\n",
       "      <td>https://www.hindustantimes.com/</td>\n",
       "      <td>You are among people who have or had problems ...</td>\n",
       "      <td>{}</td>\n",
       "      <td>[meetings, inter, aa, helps, anonymous, aloud,...</td>\n",
       "      <td>You are among people who have or had problems ...</td>\n",
       "      <td>https://www.hindustantimes.com/health-and-fitn...</td>\n",
       "    </tr>\n",
       "    <tr>\n",
       "      <th>4</th>\n",
       "      <td>Drink habits: A toast to the new cocktails</td>\n",
       "      <td>In a large-sample study conducted in Karnataka...</td>\n",
       "      <td>None</td>\n",
       "      <td>2008-05-11T00:42Z</td>\n",
       "      <td>https://www.hindustantimes.com/</td>\n",
       "      <td>A wife who drinks spirituous liquor, is of bad...</td>\n",
       "      <td>{}</td>\n",
       "      <td>[thats, cocktails, wife, power, toast, aa, dri...</td>\n",
       "      <td>She says haltingly, “Though I had been drinkin...</td>\n",
       "      <td>https://www.hindustantimes.com/entertainment/d...</td>\n",
       "    </tr>\n",
       "  </tbody>\n",
       "</table>\n",
       "</div>"
      ],
      "text/plain": [
       "                                           Headlines  \\\n",
       "0  Women alcoholics on the rise in Delhi, and acr...   \n",
       "1  Narcotics Anonmyous helps kick drug addiction,...   \n",
       "2                 The destroyer of all that is… good   \n",
       "3                            Benefits of AA Meetings   \n",
       "4         Drink habits: A toast to the new cocktails   \n",
       "\n",
       "                                        Descriptions Authors  \\\n",
       "0  States like Kerala, Andhra Pradesh, Manipur, M...    None   \n",
       "1  Narcotics Anonymous is a non-profit, internati...    None   \n",
       "2  Fire gives us warmth, but it also burns us. We...    None   \n",
       "3  The fact that many have won the battle over th...    None   \n",
       "4  In a large-sample study conducted in Karnataka...    None   \n",
       "\n",
       "     Published_Dates                      Publication  \\\n",
       "0  2017-12-10T08:05Z  https://www.hindustantimes.com/   \n",
       "1  2015-12-06T14:10Z  https://www.hindustantimes.com/   \n",
       "2  2012-07-01T23:11Z  https://www.hindustantimes.com/   \n",
       "3  2003-06-28T21:20Z  https://www.hindustantimes.com/   \n",
       "4  2008-05-11T00:42Z  https://www.hindustantimes.com/   \n",
       "\n",
       "                                            Articles category  \\\n",
       "0  When a sexagenarian wobbled up to the podium a...       {}   \n",
       "1  He was only eight when his father handed him h...       {}   \n",
       "2  Fire gives us warmth, but it also burns us. We...       {}   \n",
       "3  You are among people who have or had problems ...       {}   \n",
       "4  A wife who drinks spirituous liquor, is of bad...       {}   \n",
       "\n",
       "                                            Keywords  \\\n",
       "0  [alcoholics, think, rise, help, drink, problem...   \n",
       "1  [meetings, addiction, members, hands, helps, l...   \n",
       "2  [unable, consumed, start, cut, drink, person, ...   \n",
       "3  [meetings, inter, aa, helps, anonymous, aloud,...   \n",
       "4  [thats, cocktails, wife, power, toast, aa, dri...   \n",
       "\n",
       "                                           Summaries  \\\n",
       "0  According to members of Shakti, the Delhi grou...   \n",
       "1  That was till he found solace in Narcotics Ano...   \n",
       "2  Eye-Opener: Have you now reached a stage in yo...   \n",
       "3  You are among people who have or had problems ...   \n",
       "4  She says haltingly, “Though I had been drinkin...   \n",
       "\n",
       "                                         Source_URLs  \n",
       "0  https://www.hindustantimes.com/delhi-news/wome...  \n",
       "1  https://www.hindustantimes.com/delhi/narcotics...  \n",
       "2  https://www.hindustantimes.com/columns/the-des...  \n",
       "3  https://www.hindustantimes.com/health-and-fitn...  \n",
       "4  https://www.hindustantimes.com/entertainment/d...  "
      ]
     },
     "execution_count": 8,
     "metadata": {},
     "output_type": "execute_result"
    }
   ],
   "source": [
    "if len(headlines) == len(descriptions) == len(authors) == len(dates) == len(news) == len(publication) == len(keywords) == len(summaries) == len(urls) == len(category):\n",
    "    tbl = pd.DataFrame({'Headlines' : headlines,\n",
    "                        'Descriptions' : descriptions,\n",
    "                        'Authors' : authors,\n",
    "                        'Published_Dates' : dates,\n",
    "                        'Publication' : publication,\n",
    "                        'Articles' : news,\n",
    "                        'category' : category,\n",
    "                        'Keywords' : keywords,\n",
    "                        'Summaries' : summaries,\n",
    "                        'Source_URLs' : urls})\n",
    "    tbl.dropna()\n",
    "    path = 'C:\\\\Users\\\\GM\\\\Desktop\\\\!Code!\\\\CDRI\\\\Alcoholics Anonymous\\\\Data Extraction\\\\#Dataset\\\\'\n",
    "    tbl.to_csv(path+'Hindustan_Times.csv', index=False)\n",
    "else:\n",
    "    print('Array lenght does not match!')\n",
    "\n",
    "tbl.head()"
   ]
  },
  {
   "cell_type": "code",
   "execution_count": 9,
   "metadata": {},
   "outputs": [
    {
     "data": {
      "text/plain": [
       "(60, 10)"
      ]
     },
     "execution_count": 9,
     "metadata": {},
     "output_type": "execute_result"
    }
   ],
   "source": [
    "tbl.shape"
   ]
  }
 ],
 "metadata": {
  "kernelspec": {
   "display_name": "Python 3",
   "language": "python",
   "name": "python3"
  },
  "language_info": {
   "codemirror_mode": {
    "name": "ipython",
    "version": 3
   },
   "file_extension": ".py",
   "mimetype": "text/x-python",
   "name": "python",
   "nbconvert_exporter": "python",
   "pygments_lexer": "ipython3",
   "version": "3.7.1"
  }
 },
 "nbformat": 4,
 "nbformat_minor": 2
}
