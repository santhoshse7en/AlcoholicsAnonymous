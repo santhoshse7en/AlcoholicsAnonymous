{
 "cells": [
  {
   "cell_type": "markdown",
   "metadata": {},
   "source": [
    "## Alcholic Anonymous News articles extraction from Mumbai Mirror. Data Extraction of following parameters\n",
    "- Headline\n",
    "- Description\n",
    "- Author\n",
    "- Published Date\n",
    "- Category\n",
    "- Publication\n",
    "- News\n",
    "- URL\n",
    "- Keywords\n",
    "- Summary\n",
    "\n",
    "### Importing the necessary Libraries"
   ]
  },
  {
   "cell_type": "code",
   "execution_count": 1,
   "metadata": {},
   "outputs": [],
   "source": [
    "from selenium.webdriver.chrome.options import Options # enables options in web browser\n",
    "from selenium import webdriver # web-based automation tool for Python\n",
    "from newspaper import Article # Article scraping & curation\n",
    "from bs4 import BeautifulSoup # Python library for pulling data out of HTML and XML files\n",
    "from requests import get # standard for making HTTP requests in Python\n",
    "import pandas as pd # library written for data manipulation and analysis\n",
    "import sys, time #  System-specific parameters and functions"
   ]
  },
  {
   "cell_type": "markdown",
   "metadata": {},
   "source": [
    "### Creating Empty lists for Alcholic Anonymous News Articles parameters data to be extracted"
   ]
  },
  {
   "cell_type": "code",
   "execution_count": 2,
   "metadata": {},
   "outputs": [],
   "source": [
    "headlines, descriptions, dates, authors, news, keywords, summaries, urls, category, publication = [], [], [], [], [], [], [], [], [], []"
   ]
  },
  {
   "cell_type": "markdown",
   "metadata": {},
   "source": [
    "### Finding the total no.of.pages by total no.of articles from google search results¶"
   ]
  },
  {
   "cell_type": "code",
   "execution_count": 3,
   "metadata": {},
   "outputs": [],
   "source": [
    "keyword = 'Alcoholics Anonymous site:mumbaimirror.indiatimes.com'\n",
    "\n",
    "url = 'https://www.google.com/search?q=' + '+'.join(keyword.split())\n",
    "\n",
    "soup = BeautifulSoup(get(url).text, 'lxml')\n",
    "try:\n",
    "    # Extracts the digits if it the resulted number without comma ','. eg: About 680 results (0.23 seconds)\n",
    "    max_pages = round([int(s) for s in soup.select_one('div#resultStats').text.split() if s.isdigit()][0]/10)\n",
    "    max_pages = max_pages + 1\n",
    "except:\n",
    "    # Extracts the digits if it the resulted number without comma ','. eg: About 1,080 results (0.23 seconds)\n",
    "    max_pages = round(int(''.join(i for i in soup.select_one('div#resultStats').text if i.isdigit()))/10)\n",
    "    max_pages = max_pages + 1"
   ]
  },
  {
   "cell_type": "markdown",
   "metadata": {},
   "source": [
    "### Iterates max_pages value through while loop. Scraping the Articles urls"
   ]
  },
  {
   "cell_type": "code",
   "execution_count": 4,
   "metadata": {},
   "outputs": [
    {
     "name": "stdout",
     "output_type": "stream",
     "text": [
      "2 : 3\r"
     ]
    }
   ],
   "source": [
    "options = Options()\n",
    "options.headless = True\n",
    "browser = webdriver.Chrome(options=options)\n",
    "browser.get(url)\n",
    "\n",
    "index = 0\n",
    "\n",
    "while True:\n",
    "    try:\n",
    "        index +=1\n",
    "        page = browser.page_source\n",
    "        soup = BeautifulSoup(page, 'lxml')\n",
    "        linky = [soup.select('.r')[i].a['href'] for i in range(len(soup.select('.r')))]\n",
    "        urls.extend(linky)\n",
    "        if index == max_pages:\n",
    "            break\n",
    "        browser.find_element_by_xpath('//*[@id=\"pnnext\"]/span[2]').click()\n",
    "        time.sleep(2)\n",
    "        sys.stdout.write('\\r' + str(index) + ' : ' + str(max_pages) + '\\r')\n",
    "        sys.stdout.flush()\n",
    "    except:\n",
    "        pass\n",
    "    \n",
    "browser.quit()"
   ]
  },
  {
   "cell_type": "markdown",
   "metadata": {},
   "source": [
    "### To remove duplicates urls entries in the list by executing below line"
   ]
  },
  {
   "cell_type": "code",
   "execution_count": 5,
   "metadata": {},
   "outputs": [
    {
     "name": "stdout",
     "output_type": "stream",
     "text": [
      "Total Extracted URL's are : 24 <class 'list'>\n"
     ]
    }
   ],
   "source": [
    "urls = list(dict.fromkeys(urls))\n",
    "print(\"Total Extracted URL's are\" + ' : ' + str(len(urls)), type(urls))"
   ]
  },
  {
   "cell_type": "markdown",
   "metadata": {},
   "source": [
    "### Iterates urls through for loop. Scraping the Articles with above parameters"
   ]
  },
  {
   "cell_type": "code",
   "execution_count": 6,
   "metadata": {},
   "outputs": [
    {
     "name": "stdout",
     "output_type": "stream",
     "text": [
      "Wall time: 1min 50smirror.indiatimes.com/mumbai/other/two-govandi-men-dead-one-hurt-in-road-mishap/articleshow/31858611.cmsg-alcohol-and-unprotected-sex,-which-I-don't-rememberNow-she-says-she-is-pregnantHow-will-I-know-if-it-is-my-child/sexpertanswer.cms?cid=44881\n"
     ]
    }
   ],
   "source": [
    "%%time\n",
    "for index, url in enumerate(urls):\n",
    "    try:\n",
    "        # Parse the url to NewsPlease \n",
    "        soup = BeautifulSoup(get(url).text, 'lxml')\n",
    "        article = Article(url)\n",
    "        article.download()\n",
    "        article.parse()\n",
    "        article.nlp()\n",
    "        \n",
    "        # Extracts the Headlines\n",
    "        try:\n",
    "            try:\n",
    "                headlines.append(article.title.strip())\n",
    "            except:\n",
    "                headlines.append(soup.select_one('meta[property=\"og:title\"]')['content'].strip())\n",
    "        except:\n",
    "            headlines.append(None)\n",
    "            \n",
    "        # Extracts the Descriptions    \n",
    "        try:\n",
    "            try:\n",
    "                descriptions.append(soup.select_one('meta[property=\"og:description\"]')['content'].strip().replace('\\n', ' '))\n",
    "            except:\n",
    "                descriptions.append(article.meta_description.strip())\n",
    "        except:\n",
    "            descriptions.append(None)\n",
    "            \n",
    "        # Extracts the Authors\n",
    "        try:\n",
    "            try:\n",
    "                authors.append(soup.select_one('.Normal').strong.text.strip())\n",
    "            except:\n",
    "                authors.append(article.authors.strip())\n",
    "        except:\n",
    "            authors.append(None)\n",
    "        \n",
    "        # Extracts the published dates\n",
    "        try:\n",
    "            try:\n",
    "                dates.append(json.loads(soup.select_one('script[type=\"application/ld+json\"]').text)['datePublished'])\n",
    "            except:\n",
    "                dates.append(str(article.publish_date))\n",
    "        except:\n",
    "            dates.append(None)\n",
    "            \n",
    "        # Extracts the news articles\n",
    "        try:\n",
    "            try:\n",
    "                news.append(' '.join(soup.select_one('.storyText').text.split()).strip())\n",
    "            except:\n",
    "                news.append(' '.join(article.text.split()).replace(\"\\'\\'\",\" \").replace(\"\\'\", \"\").replace(\" / \", \"\"))\n",
    "        except:\n",
    "            news.append(None)\n",
    "            \n",
    "        # Extracts the news category\n",
    "        try:\n",
    "            category.append(article.meta_data['category'])\n",
    "        except:\n",
    "            category.append(None)\n",
    "            \n",
    "        # Extracts the news publication\n",
    "        try:\n",
    "            publication.append(article.meta_data['og']['site_name'])\n",
    "        except:\n",
    "            publication.append(None)\n",
    "\n",
    "        # Extracts Keywords and Summaries\n",
    "        try:\n",
    "            keywords.append(article.keywords)\n",
    "            summaries.append(article.summary)\n",
    "        except:\n",
    "            keywords.append(None)\n",
    "            summaries.append(None)\n",
    "                        \n",
    "    except:\n",
    "        headlines.append(None)\n",
    "        descriptions.append(None)\n",
    "        authors.append(None)\n",
    "        dates.append(None)\n",
    "        category.append(None)\n",
    "        publication.append(None)\n",
    "        news.append(None)\n",
    "        keywords.append(None)\n",
    "        summaries.append(None)\n",
    "\n",
    "    sys.stdout.write('\\r' + str(index) + ' : ' + str(url) + '\\r')\n",
    "    sys.stdout.flush()"
   ]
  },
  {
   "cell_type": "markdown",
   "metadata": {},
   "source": [
    "### Checking Array Length of each list to create DataFrame"
   ]
  },
  {
   "cell_type": "code",
   "execution_count": 7,
   "metadata": {},
   "outputs": [
    {
     "name": "stdout",
     "output_type": "stream",
     "text": [
      "24 24 24 24 24 24 24 24 24 24\n"
     ]
    }
   ],
   "source": [
    "print(len(headlines), len(descriptions), len(authors), len(dates), len(category), len(publication), len(news), len(keywords), len(summaries), len(urls))"
   ]
  },
  {
   "cell_type": "markdown",
   "metadata": {},
   "source": [
    "### Creating a csv file after checking array length and droping the missing values from the dataset"
   ]
  },
  {
   "cell_type": "code",
   "execution_count": 8,
   "metadata": {},
   "outputs": [
    {
     "data": {
      "text/html": [
       "<div>\n",
       "<style scoped>\n",
       "    .dataframe tbody tr th:only-of-type {\n",
       "        vertical-align: middle;\n",
       "    }\n",
       "\n",
       "    .dataframe tbody tr th {\n",
       "        vertical-align: top;\n",
       "    }\n",
       "\n",
       "    .dataframe thead th {\n",
       "        text-align: right;\n",
       "    }\n",
       "</style>\n",
       "<table border=\"1\" class=\"dataframe\">\n",
       "  <thead>\n",
       "    <tr style=\"text-align: right;\">\n",
       "      <th></th>\n",
       "      <th>Headlines</th>\n",
       "      <th>Descriptions</th>\n",
       "      <th>Authors</th>\n",
       "      <th>Published_Dates</th>\n",
       "      <th>Publication</th>\n",
       "      <th>Articles</th>\n",
       "      <th>category</th>\n",
       "      <th>Keywords</th>\n",
       "      <th>Summaries</th>\n",
       "      <th>Source_URLs</th>\n",
       "    </tr>\n",
       "  </thead>\n",
       "  <tbody>\n",
       "    <tr>\n",
       "      <th>0</th>\n",
       "      <td>Alcoholic Anonymous asked to vacate civic prem...</td>\n",
       "      <td>The organisation runs its national head office...</td>\n",
       "      <td>None</td>\n",
       "      <td>None</td>\n",
       "      <td>Mumbai Mirror</td>\n",
       "      <td>Alcoholics Anonymous Helen Keller spread no do...</td>\n",
       "      <td>{}</td>\n",
       "      <td>[bmc, yrs, civic, alcoholics, municipal, class...</td>\n",
       "      <td>I will give them apositive response,” he said....</td>\n",
       "      <td>https://mumbaimirror.indiatimes.com/mumbai/civ...</td>\n",
       "    </tr>\n",
       "    <tr>\n",
       "      <th>1</th>\n",
       "      <td>Alcoholic deaddiction awareness programme held...</td>\n",
       "      <td>Vashi:  A group of members of Alcoholic Anonym...</td>\n",
       "      <td>Vashi:</td>\n",
       "      <td>None</td>\n",
       "      <td>Mumbai Mirror</td>\n",
       "      <td>motivating talk: The AA members explained the ...</td>\n",
       "      <td>{}</td>\n",
       "      <td>[awareness, policemen, stn, held, alcoholism, ...</td>\n",
       "      <td>The members of AA aimed at achieving their pri...</td>\n",
       "      <td>https://mumbaimirror.indiatimes.com/mumbai/oth...</td>\n",
       "    </tr>\n",
       "    <tr>\n",
       "      <th>2</th>\n",
       "      <td>Giving Gyan</td>\n",
       "      <td>I am a 34-year-old health professional, but pr...</td>\n",
       "      <td>Dear Bachi,  I am a 34-year-old health profess...</td>\n",
       "      <td>None</td>\n",
       "      <td>Mumbai Mirror</td>\n",
       "      <td>Dear Bachi, I am a 34-year-old health professi...</td>\n",
       "      <td>{}</td>\n",
       "      <td>[nagging, weekends, professional, hes, ms, giv...</td>\n",
       "      <td>My husband drinks moderately on weekends.\\nHe ...</td>\n",
       "      <td>https://mumbaimirror.indiatimes.com/opinion/co...</td>\n",
       "    </tr>\n",
       "    <tr>\n",
       "      <th>3</th>\n",
       "      <td>When life’s on the rocks</td>\n",
       "      <td>Over twenty-six million Indians drink more alc...</td>\n",
       "      <td>Lachmi Deb Roy</td>\n",
       "      <td>None</td>\n",
       "      <td>Mumbai Mirror</td>\n",
       "      <td>TWELVE STEPS TO RECOVERY AS PRESENTED BY ALCOH...</td>\n",
       "      <td>{}</td>\n",
       "      <td>[power, rocks, lifes, drinking, cent, remember...</td>\n",
       "      <td>Believing that a higher power (in whatever for...</td>\n",
       "      <td>https://mumbaimirror.indiatimes.com/others/hea...</td>\n",
       "    </tr>\n",
       "    <tr>\n",
       "      <th>4</th>\n",
       "      <td>Alcoholic cops, go for AA meetings</td>\n",
       "      <td>This refers to 'CP set to reassign 250 alcohol...</td>\n",
       "      <td>— R Castellino</td>\n",
       "      <td>None</td>\n",
       "      <td>Mumbai Mirror</td>\n",
       "      <td>This refers to CP set to reassign 250 alcoholi...</td>\n",
       "      <td>{}</td>\n",
       "      <td>[cops, need, cp, hope, scare, ships, force, me...</td>\n",
       "      <td>This refers to 'CP set to reassign 250 alcohol...</td>\n",
       "      <td>https://mumbaimirror.indiatimes.com/alcoholic-...</td>\n",
       "    </tr>\n",
       "  </tbody>\n",
       "</table>\n",
       "</div>"
      ],
      "text/plain": [
       "                                           Headlines  \\\n",
       "0  Alcoholic Anonymous asked to vacate civic prem...   \n",
       "1  Alcoholic deaddiction awareness programme held...   \n",
       "2                                        Giving Gyan   \n",
       "3                           When life’s on the rocks   \n",
       "4                 Alcoholic cops, go for AA meetings   \n",
       "\n",
       "                                        Descriptions  \\\n",
       "0  The organisation runs its national head office...   \n",
       "1  Vashi:  A group of members of Alcoholic Anonym...   \n",
       "2  I am a 34-year-old health professional, but pr...   \n",
       "3  Over twenty-six million Indians drink more alc...   \n",
       "4  This refers to 'CP set to reassign 250 alcohol...   \n",
       "\n",
       "                                             Authors Published_Dates  \\\n",
       "0                                               None            None   \n",
       "1                                             Vashi:            None   \n",
       "2  Dear Bachi,  I am a 34-year-old health profess...            None   \n",
       "3                                     Lachmi Deb Roy            None   \n",
       "4                                     — R Castellino            None   \n",
       "\n",
       "     Publication                                           Articles category  \\\n",
       "0  Mumbai Mirror  Alcoholics Anonymous Helen Keller spread no do...       {}   \n",
       "1  Mumbai Mirror  motivating talk: The AA members explained the ...       {}   \n",
       "2  Mumbai Mirror  Dear Bachi, I am a 34-year-old health professi...       {}   \n",
       "3  Mumbai Mirror  TWELVE STEPS TO RECOVERY AS PRESENTED BY ALCOH...       {}   \n",
       "4  Mumbai Mirror  This refers to CP set to reassign 250 alcoholi...       {}   \n",
       "\n",
       "                                            Keywords  \\\n",
       "0  [bmc, yrs, civic, alcoholics, municipal, class...   \n",
       "1  [awareness, policemen, stn, held, alcoholism, ...   \n",
       "2  [nagging, weekends, professional, hes, ms, giv...   \n",
       "3  [power, rocks, lifes, drinking, cent, remember...   \n",
       "4  [cops, need, cp, hope, scare, ships, force, me...   \n",
       "\n",
       "                                           Summaries  \\\n",
       "0  I will give them apositive response,” he said....   \n",
       "1  The members of AA aimed at achieving their pri...   \n",
       "2  My husband drinks moderately on weekends.\\nHe ...   \n",
       "3  Believing that a higher power (in whatever for...   \n",
       "4  This refers to 'CP set to reassign 250 alcohol...   \n",
       "\n",
       "                                         Source_URLs  \n",
       "0  https://mumbaimirror.indiatimes.com/mumbai/civ...  \n",
       "1  https://mumbaimirror.indiatimes.com/mumbai/oth...  \n",
       "2  https://mumbaimirror.indiatimes.com/opinion/co...  \n",
       "3  https://mumbaimirror.indiatimes.com/others/hea...  \n",
       "4  https://mumbaimirror.indiatimes.com/alcoholic-...  "
      ]
     },
     "execution_count": 8,
     "metadata": {},
     "output_type": "execute_result"
    }
   ],
   "source": [
    "if len(headlines) == len(descriptions) == len(authors) == len(dates) == len(news) == len(publication) == len(keywords) == len(summaries) == len(urls) == len(category):\n",
    "    tbl = pd.DataFrame({'Headlines' : headlines,\n",
    "                        'Descriptions' : descriptions,\n",
    "                        'Authors' : authors,\n",
    "                        'Published_Dates' : dates,\n",
    "                        'Publication' : publication,\n",
    "                        'Articles' : news,\n",
    "                        'category' : category,\n",
    "                        'Keywords' : keywords,\n",
    "                        'Summaries' : summaries,\n",
    "                        'Source_URLs' : urls})\n",
    "    tbl.dropna()\n",
    "    path = 'C:\\\\Users\\\\GM\\\\Desktop\\\\!Code!\\\\CDRI\\\\Alcoholics Anonymous\\\\Data Extraction\\\\#Dataset\\\\'\n",
    "    tbl.to_csv(path+'Mumbai_Mirror.csv', index=False)\n",
    "else:\n",
    "    print('Array lenght does not match!')\n",
    "\n",
    "tbl.head()"
   ]
  },
  {
   "cell_type": "code",
   "execution_count": 9,
   "metadata": {},
   "outputs": [
    {
     "data": {
      "text/plain": [
       "(24, 10)"
      ]
     },
     "execution_count": 9,
     "metadata": {},
     "output_type": "execute_result"
    }
   ],
   "source": [
    "tbl.shape"
   ]
  }
 ],
 "metadata": {
  "kernelspec": {
   "display_name": "Python 3",
   "language": "python",
   "name": "python3"
  },
  "language_info": {
   "codemirror_mode": {
    "name": "ipython",
    "version": 3
   },
   "file_extension": ".py",
   "mimetype": "text/x-python",
   "name": "python",
   "nbconvert_exporter": "python",
   "pygments_lexer": "ipython3",
   "version": "3.7.1"
  }
 },
 "nbformat": 4,
 "nbformat_minor": 2
}
