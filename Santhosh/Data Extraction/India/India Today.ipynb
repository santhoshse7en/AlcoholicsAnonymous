{
 "cells": [
  {
   "cell_type": "markdown",
   "metadata": {},
   "source": [
    "## Alcholic Anonymous News articles extraction from India Today. Data Extraction of following parameters\n",
    "- Headline\n",
    "- Description\n",
    "- Author\n",
    "- Published Date\n",
    "- Category\n",
    "- Publication\n",
    "- News\n",
    "- URL\n",
    "- Keywords\n",
    "- Summary\n",
    "\n",
    "### Importing the necessary Libraries"
   ]
  },
  {
   "cell_type": "code",
   "execution_count": 1,
   "metadata": {},
   "outputs": [],
   "source": [
    "from selenium.webdriver.chrome.options import Options # enables options in web browser\n",
    "from selenium import webdriver # web-based automation tool for Python\n",
    "from newspaper import Article # Article scraping & curation\n",
    "from bs4 import BeautifulSoup # Python library for pulling data out of HTML and XML files\n",
    "from requests import get # standard for making HTTP requests in Python\n",
    "import pandas as pd # library written for data manipulation and analysis\n",
    "import sys, time #  System-specific parameters and functions"
   ]
  },
  {
   "cell_type": "markdown",
   "metadata": {},
   "source": [
    "### Creating Empty lists for Alcholic Anonymous News Articles parameters data to be extracted"
   ]
  },
  {
   "cell_type": "code",
   "execution_count": 2,
   "metadata": {},
   "outputs": [],
   "source": [
    "headlines, descriptions, dates, authors, news, keywords, summaries, urls, category, publication = [], [], [], [], [], [], [], [], [], []"
   ]
  },
  {
   "cell_type": "markdown",
   "metadata": {},
   "source": [
    "### Finding the total no.of.pages by total no.of articles from google search results¶"
   ]
  },
  {
   "cell_type": "code",
   "execution_count": 3,
   "metadata": {},
   "outputs": [],
   "source": [
    "keyword = 'Alcoholics Anonymous site:www.indiatoday.in'\n",
    "\n",
    "url = 'https://www.google.com/search?q=' + '+'.join(keyword.split())\n",
    "\n",
    "soup = BeautifulSoup(get(url).text, 'lxml')\n",
    "try:\n",
    "    # Extracts the digits if it the resulted number without comma ','. eg: About 680 results (0.23 seconds)\n",
    "    max_pages = round([int(s) for s in soup.select_one('div#resultStats').text.split() if s.isdigit()][0]/10)\n",
    "    max_pages = max_pages + 1\n",
    "except:\n",
    "    # Extracts the digits if it the resulted number without comma ','. eg: About 1,080 results (0.23 seconds)\n",
    "    max_pages = round(int(''.join(i for i in soup.select_one('div#resultStats').text if i.isdigit()))/10)\n",
    "    max_pages = max_pages + 1"
   ]
  },
  {
   "cell_type": "markdown",
   "metadata": {},
   "source": [
    "### Iterates max_pages value through while loop. Scraping the Articles urls"
   ]
  },
  {
   "cell_type": "code",
   "execution_count": 4,
   "metadata": {},
   "outputs": [
    {
     "name": "stdout",
     "output_type": "stream",
     "text": [
      "5 : 8\r"
     ]
    }
   ],
   "source": [
    "options = Options()\n",
    "options.headless = True\n",
    "browser = webdriver.Chrome(options=options)\n",
    "browser.get(url)\n",
    "\n",
    "index = 0\n",
    "\n",
    "while True:\n",
    "    try:\n",
    "        index +=1\n",
    "        page = browser.page_source\n",
    "        soup = BeautifulSoup(page, 'lxml')\n",
    "        linky = [soup.select('.r')[i].a['href'] for i in range(len(soup.select('.r')))]\n",
    "        urls.extend(linky)\n",
    "        if index == max_pages:\n",
    "            break\n",
    "        browser.find_element_by_xpath('//*[@id=\"pnnext\"]/span[2]').click()\n",
    "        time.sleep(2)\n",
    "        sys.stdout.write('\\r' + str(index) + ' : ' + str(max_pages) + '\\r')\n",
    "        sys.stdout.flush()\n",
    "    except:\n",
    "        pass\n",
    "    \n",
    "browser.quit()"
   ]
  },
  {
   "cell_type": "markdown",
   "metadata": {},
   "source": [
    "### To remove duplicates urls entries in the list by executing below line"
   ]
  },
  {
   "cell_type": "code",
   "execution_count": 5,
   "metadata": {},
   "outputs": [
    {
     "name": "stdout",
     "output_type": "stream",
     "text": [
      "Total Extracted URL's are : 57 <class 'list'>\n"
     ]
    }
   ],
   "source": [
    "urls = list(dict.fromkeys(urls))\n",
    "print(\"Total Extracted URL's are\" + ' : ' + str(len(urls)), type(urls))"
   ]
  },
  {
   "cell_type": "markdown",
   "metadata": {},
   "source": [
    "### Iterates urls through for loop. Scraping the Articles with above parameters"
   ]
  },
  {
   "cell_type": "code",
   "execution_count": 6,
   "metadata": {},
   "outputs": [
    {
     "name": "stdout",
     "output_type": "stream",
     "text": [
      "Wall time: 3min 10sdiatoday.in/movies/hollywood/story/viral-videos-stoke-celebrities-images-156049-2013-03-13ecret-sessions-sonal-holland-wine-club-royal-opera-house-733710-2016-10-21\n"
     ]
    }
   ],
   "source": [
    "%%time\n",
    "for index, url in enumerate(urls):\n",
    "    try:\n",
    "        # Parse the url to NewsPlease \n",
    "        soup = BeautifulSoup(get(url).text, 'lxml')\n",
    "        article = Article(url)\n",
    "        article.download()\n",
    "        article.parse()\n",
    "        article.nlp()\n",
    "        \n",
    "        # Extracts the Headlines\n",
    "        try:\n",
    "            try:\n",
    "                headlines.append(article.title.strip())\n",
    "            except:\n",
    "                headlines.append(soup.select_one('meta[property=\"og:title\"]')['content'].strip())\n",
    "        except:\n",
    "            headlines.append(None)\n",
    "            \n",
    "        # Extracts the Descriptions    \n",
    "        try:\n",
    "            try:\n",
    "                descriptions.append(soup.select_one('meta[property=\"og:description\"]')['content'].strip().replace('\\n', ' '))\n",
    "            except:\n",
    "                descriptions.append(article.meta_description.strip())\n",
    "        except:\n",
    "            descriptions.append(None)\n",
    "            \n",
    "        # Extracts the Authors\n",
    "        try:\n",
    "            try:\n",
    "                authors.append(soup.select_one('meta[name=\"author\"]')['content'].strip())\n",
    "            except:\n",
    "                authors.append(article.authors.strip())\n",
    "        except:\n",
    "            authors.append(None)\n",
    "        \n",
    "        # Extracts the published dates\n",
    "        try:\n",
    "            try:\n",
    "                dates.append(soup.select_one('meta[property=\"article:published_time\"]')['content'].strip())\n",
    "            except:\n",
    "                dates.append(str(article.publish_date))\n",
    "        except:\n",
    "            dates.append(None)\n",
    "            \n",
    "        # Extracts the news articles\n",
    "        try:\n",
    "            try:\n",
    "                news.append(' '.join(soup.select_one('.storyText').text.split()).replace('\\n', '').strip())\n",
    "            except:\n",
    "                news.append(' '.join(article.text.split()).replace(\"\\'\\'\",\" \").replace(\"\\'\", \"\").replace(\" / \", \"\"))\n",
    "        except:\n",
    "            news.append(None)\n",
    "            \n",
    "        # Extracts the news category\n",
    "        try:\n",
    "            category.append(article.meta_data['category'])\n",
    "        except:\n",
    "            category.append(None)\n",
    "            \n",
    "        # Extracts the news publication\n",
    "        try:\n",
    "            publication.append(article.meta_data['og']['site_name'])\n",
    "        except:\n",
    "            publication.append(None)\n",
    "\n",
    "        # Extracts Keywords and Summaries\n",
    "        try:\n",
    "            keywords.append(article.keywords)\n",
    "            summaries.append(article.summary)\n",
    "        except:\n",
    "            keywords.append(None)\n",
    "            summaries.append(None)\n",
    "                        \n",
    "    except:\n",
    "        headlines.append(None)\n",
    "        descriptions.append(None)\n",
    "        authors.append(None)\n",
    "        dates.append(None)\n",
    "        category.append(None)\n",
    "        publication.append(None)\n",
    "        news.append(None)\n",
    "        keywords.append(None)\n",
    "        summaries.append(None)\n",
    "\n",
    "    sys.stdout.write('\\r' + str(index) + ' : ' + str(url) + '\\r')\n",
    "    sys.stdout.flush()"
   ]
  },
  {
   "cell_type": "markdown",
   "metadata": {},
   "source": [
    "### Checking Array Length of each list to create DataFrame"
   ]
  },
  {
   "cell_type": "code",
   "execution_count": 7,
   "metadata": {},
   "outputs": [
    {
     "name": "stdout",
     "output_type": "stream",
     "text": [
      "57 57 57 57 57 57 57 57 57 57\n"
     ]
    }
   ],
   "source": [
    "print(len(headlines), len(descriptions), len(authors), len(dates), len(category), len(publication), len(news), len(keywords), len(summaries), len(urls))"
   ]
  },
  {
   "cell_type": "markdown",
   "metadata": {},
   "source": [
    "### Creating a csv file after checking array length and droping the missing values from the dataset"
   ]
  },
  {
   "cell_type": "code",
   "execution_count": 8,
   "metadata": {},
   "outputs": [
    {
     "data": {
      "text/html": [
       "<div>\n",
       "<style scoped>\n",
       "    .dataframe tbody tr th:only-of-type {\n",
       "        vertical-align: middle;\n",
       "    }\n",
       "\n",
       "    .dataframe tbody tr th {\n",
       "        vertical-align: top;\n",
       "    }\n",
       "\n",
       "    .dataframe thead th {\n",
       "        text-align: right;\n",
       "    }\n",
       "</style>\n",
       "<table border=\"1\" class=\"dataframe\">\n",
       "  <thead>\n",
       "    <tr style=\"text-align: right;\">\n",
       "      <th></th>\n",
       "      <th>Headlines</th>\n",
       "      <th>Descriptions</th>\n",
       "      <th>Authors</th>\n",
       "      <th>Published_Dates</th>\n",
       "      <th>Publication</th>\n",
       "      <th>Articles</th>\n",
       "      <th>category</th>\n",
       "      <th>Keywords</th>\n",
       "      <th>Summaries</th>\n",
       "      <th>Source_URLs</th>\n",
       "    </tr>\n",
       "  </thead>\n",
       "  <tbody>\n",
       "    <tr>\n",
       "      <th>0</th>\n",
       "      <td>One of the most successful ways of treating ad...</td>\n",
       "      <td>Today the T.T. Ranganathan Clinical Research C...</td>\n",
       "      <td>None</td>\n",
       "      <td>2014-01-27T16:19:47+05:30</td>\n",
       "      <td>India Today</td>\n",
       "      <td>Aversion therapy: effective Aversion therapy: ...</td>\n",
       "      <td>{}</td>\n",
       "      <td>[ways, addicts, aa, anonymous, alcoholics, pat...</td>\n",
       "      <td>It first admits patients to a nursing home for...</td>\n",
       "      <td>https://www.indiatoday.in/magazine/cover-story...</td>\n",
       "    </tr>\n",
       "    <tr>\n",
       "      <th>1</th>\n",
       "      <td>Original 1939 Alcoholics Anonymous Manuscript ...</td>\n",
       "      <td>The original manuscript of Alcoholics Anonymou...</td>\n",
       "      <td>None</td>\n",
       "      <td>2017-05-19 00:00:00</td>\n",
       "      <td>India Today</td>\n",
       "      <td>The original manuscript of Alcoholics Anonymou...</td>\n",
       "      <td>{}</td>\n",
       "      <td>[wilson, million, york, anonymous, alcoholics,...</td>\n",
       "      <td>The original manuscript of Alcoholics Anonymou...</td>\n",
       "      <td>https://www.indiatoday.in/world-special/video/...</td>\n",
       "    </tr>\n",
       "    <tr>\n",
       "      <th>2</th>\n",
       "      <td>Demi Lovato left Met Gala to go to Alcoholics ...</td>\n",
       "      <td>Demi Lovato left Met Gala to go to Alcoholics ...</td>\n",
       "      <td>None</td>\n",
       "      <td>2018-03-10T11:05:11+05:30</td>\n",
       "      <td>India Today</td>\n",
       "      <td>Los Angeles, Mar 10 (PTI) Demi Lovato has reca...</td>\n",
       "      <td>{}</td>\n",
       "      <td>[met, pti, meeting, anonymous, alcoholics, dia...</td>\n",
       "      <td>Los Angeles, Mar 10 (PTI) Demi Lovato has reca...</td>\n",
       "      <td>https://www.indiatoday.in/pti-feed/story/demi-...</td>\n",
       "    </tr>\n",
       "    <tr>\n",
       "      <th>3</th>\n",
       "      <td>Compounded by denial and loneliness, alcoholis...</td>\n",
       "      <td>Compounded by denial and a dearth of treatment...</td>\n",
       "      <td>None</td>\n",
       "      <td>2013-06-20T14:12:29+05:30</td>\n",
       "      <td>India Today</td>\n",
       "      <td>More than anything else, this letter from her ...</td>\n",
       "      <td>{}</td>\n",
       "      <td>[women, loneliness, problem, drinking, alcohol...</td>\n",
       "      <td>Now, there are 30 to 35 every month and the in...</td>\n",
       "      <td>https://www.indiatoday.in/magazine/living/stor...</td>\n",
       "    </tr>\n",
       "    <tr>\n",
       "      <th>4</th>\n",
       "      <td>Alcohol withdrawal</td>\n",
       "      <td>150,2009,2011,24th,373,492,501,911,abnormal,ab...</td>\n",
       "      <td>None</td>\n",
       "      <td>2014-09-24T09:54:54+05:30</td>\n",
       "      <td>India Today</td>\n",
       "      <td>Definition Alcohol withdrawal refers to sympto...</td>\n",
       "      <td>{}</td>\n",
       "      <td>[drinking, withdrawal, medicine, stop, treatme...</td>\n",
       "      <td>DefinitionAlcohol withdrawal refers to symptom...</td>\n",
       "      <td>https://www.indiatoday.in/lifestyle/health/sto...</td>\n",
       "    </tr>\n",
       "  </tbody>\n",
       "</table>\n",
       "</div>"
      ],
      "text/plain": [
       "                                           Headlines  \\\n",
       "0  One of the most successful ways of treating ad...   \n",
       "1  Original 1939 Alcoholics Anonymous Manuscript ...   \n",
       "2  Demi Lovato left Met Gala to go to Alcoholics ...   \n",
       "3  Compounded by denial and loneliness, alcoholis...   \n",
       "4                                 Alcohol withdrawal   \n",
       "\n",
       "                                        Descriptions Authors  \\\n",
       "0  Today the T.T. Ranganathan Clinical Research C...    None   \n",
       "1  The original manuscript of Alcoholics Anonymou...    None   \n",
       "2  Demi Lovato left Met Gala to go to Alcoholics ...    None   \n",
       "3  Compounded by denial and a dearth of treatment...    None   \n",
       "4  150,2009,2011,24th,373,492,501,911,abnormal,ab...    None   \n",
       "\n",
       "             Published_Dates  Publication  \\\n",
       "0  2014-01-27T16:19:47+05:30  India Today   \n",
       "1        2017-05-19 00:00:00  India Today   \n",
       "2  2018-03-10T11:05:11+05:30  India Today   \n",
       "3  2013-06-20T14:12:29+05:30  India Today   \n",
       "4  2014-09-24T09:54:54+05:30  India Today   \n",
       "\n",
       "                                            Articles category  \\\n",
       "0  Aversion therapy: effective Aversion therapy: ...       {}   \n",
       "1  The original manuscript of Alcoholics Anonymou...       {}   \n",
       "2  Los Angeles, Mar 10 (PTI) Demi Lovato has reca...       {}   \n",
       "3  More than anything else, this letter from her ...       {}   \n",
       "4  Definition Alcohol withdrawal refers to sympto...       {}   \n",
       "\n",
       "                                            Keywords  \\\n",
       "0  [ways, addicts, aa, anonymous, alcoholics, pat...   \n",
       "1  [wilson, million, york, anonymous, alcoholics,...   \n",
       "2  [met, pti, meeting, anonymous, alcoholics, dia...   \n",
       "3  [women, loneliness, problem, drinking, alcohol...   \n",
       "4  [drinking, withdrawal, medicine, stop, treatme...   \n",
       "\n",
       "                                           Summaries  \\\n",
       "0  It first admits patients to a nursing home for...   \n",
       "1  The original manuscript of Alcoholics Anonymou...   \n",
       "2  Los Angeles, Mar 10 (PTI) Demi Lovato has reca...   \n",
       "3  Now, there are 30 to 35 every month and the in...   \n",
       "4  DefinitionAlcohol withdrawal refers to symptom...   \n",
       "\n",
       "                                         Source_URLs  \n",
       "0  https://www.indiatoday.in/magazine/cover-story...  \n",
       "1  https://www.indiatoday.in/world-special/video/...  \n",
       "2  https://www.indiatoday.in/pti-feed/story/demi-...  \n",
       "3  https://www.indiatoday.in/magazine/living/stor...  \n",
       "4  https://www.indiatoday.in/lifestyle/health/sto...  "
      ]
     },
     "execution_count": 8,
     "metadata": {},
     "output_type": "execute_result"
    }
   ],
   "source": [
    "if len(headlines) == len(descriptions) == len(authors) == len(dates) == len(news) == len(publication) == len(keywords) == len(summaries) == len(urls) == len(category):\n",
    "    tbl = pd.DataFrame({'Headlines' : headlines,\n",
    "                        'Descriptions' : descriptions,\n",
    "                        'Authors' : authors,\n",
    "                        'Published_Dates' : dates,\n",
    "                        'Publication' : publication,\n",
    "                        'Articles' : news,\n",
    "                        'category' : category,\n",
    "                        'Keywords' : keywords,\n",
    "                        'Summaries' : summaries,\n",
    "                        'Source_URLs' : urls})\n",
    "    tbl.dropna()\n",
    "    path = 'C:\\\\Users\\\\GM\\\\Desktop\\\\!Code!\\\\CDRI\\\\Alcoholics Anonymous\\\\Data Extraction\\\\#Dataset\\\\'\n",
    "    tbl.to_csv(path+'India_Today.csv', index=False)\n",
    "else:\n",
    "    print('Array lenght does not match!')\n",
    "\n",
    "tbl.head()"
   ]
  },
  {
   "cell_type": "code",
   "execution_count": 9,
   "metadata": {},
   "outputs": [
    {
     "data": {
      "text/plain": [
       "(57, 10)"
      ]
     },
     "execution_count": 9,
     "metadata": {},
     "output_type": "execute_result"
    }
   ],
   "source": [
    "tbl.shape"
   ]
  }
 ],
 "metadata": {
  "kernelspec": {
   "display_name": "Python 3",
   "language": "python",
   "name": "python3"
  },
  "language_info": {
   "codemirror_mode": {
    "name": "ipython",
    "version": 3
   },
   "file_extension": ".py",
   "mimetype": "text/x-python",
   "name": "python",
   "nbconvert_exporter": "python",
   "pygments_lexer": "ipython3",
   "version": "3.7.1"
  }
 },
 "nbformat": 4,
 "nbformat_minor": 2
}
