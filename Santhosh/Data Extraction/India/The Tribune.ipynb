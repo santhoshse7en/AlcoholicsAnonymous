{
 "cells": [
  {
   "cell_type": "markdown",
   "metadata": {},
   "source": [
    "## Alcholic Anonymous News articles extraction from The Tribune. Data Extraction of following parameters\n",
    "- Headline\n",
    "- Description\n",
    "- Author\n",
    "- Published Date\n",
    "- Category\n",
    "- Publication\n",
    "- News\n",
    "- URL\n",
    "- Keywords\n",
    "- Summary\n",
    "\n",
    "### Importing the necessary Libraries"
   ]
  },
  {
   "cell_type": "code",
   "execution_count": 1,
   "metadata": {},
   "outputs": [],
   "source": [
    "from selenium.webdriver.chrome.options import Options # enables options in web browser\n",
    "from selenium import webdriver # web-based automation tool for Python\n",
    "from newspaper import Article # Article scraping & curation\n",
    "from bs4 import BeautifulSoup # Python library for pulling data out of HTML and XML files\n",
    "from requests import get # standard for making HTTP requests in Python\n",
    "import pandas as pd # library written for data manipulation and analysis\n",
    "import sys, time #  System-specific parameters and functions"
   ]
  },
  {
   "cell_type": "markdown",
   "metadata": {},
   "source": [
    "### Creating Empty lists for Alcholic Anonymous News Articles parameters data to be extracted"
   ]
  },
  {
   "cell_type": "code",
   "execution_count": 2,
   "metadata": {},
   "outputs": [],
   "source": [
    "headlines, descriptions, dates, authors, news, keywords, summaries, urls, category, publication = [], [], [], [], [], [], [], [], [], []"
   ]
  },
  {
   "cell_type": "markdown",
   "metadata": {},
   "source": [
    "### Finding the total no.of.pages by total no.of articles from google search results¶"
   ]
  },
  {
   "cell_type": "code",
   "execution_count": 3,
   "metadata": {},
   "outputs": [],
   "source": [
    "keyword = 'Alcoholics Anonymous site:www.tribuneindia.com'\n",
    "\n",
    "url = 'https://www.google.com/search?q=' + '+'.join(keyword.split())\n",
    "\n",
    "soup = BeautifulSoup(get(url).text, 'lxml')\n",
    "try:\n",
    "    # Extracts the digits if it the resulted number without comma ','. eg: About 680 results (0.23 seconds)\n",
    "    max_pages = round([int(s) for s in soup.select_one('div#resultStats').text.split() if s.isdigit()][0]/10)\n",
    "    max_pages = max_pages + 1\n",
    "except:\n",
    "    # Extracts the digits if it the resulted number without comma ','. eg: About 1,080 results (0.23 seconds)\n",
    "    max_pages = round(int(''.join(i for i in soup.select_one('div#resultStats').text if i.isdigit()))/10)\n",
    "    max_pages = max_pages + 1"
   ]
  },
  {
   "cell_type": "markdown",
   "metadata": {},
   "source": [
    "### Iterates max_pages value through while loop. Scraping the Articles urls"
   ]
  },
  {
   "cell_type": "code",
   "execution_count": 4,
   "metadata": {},
   "outputs": [
    {
     "name": "stdout",
     "output_type": "stream",
     "text": [
      "17 : 19\r"
     ]
    }
   ],
   "source": [
    "options = Options()\n",
    "options.headless = True\n",
    "browser = webdriver.Chrome(options=options)\n",
    "browser.get(url)\n",
    "\n",
    "index = 0\n",
    "\n",
    "while True:\n",
    "    try:\n",
    "        index +=1\n",
    "        page = browser.page_source\n",
    "        soup = BeautifulSoup(page, 'lxml')\n",
    "        linky = [soup.select('.r')[i].a['href'] for i in range(len(soup.select('.r')))]\n",
    "        urls.extend(linky)\n",
    "        if index == max_pages:\n",
    "            break\n",
    "        browser.find_element_by_xpath('//*[@id=\"pnnext\"]/span[2]').click()\n",
    "        time.sleep(2)\n",
    "        sys.stdout.write('\\r' + str(index) + ' : ' + str(max_pages) + '\\r')\n",
    "        sys.stdout.flush()\n",
    "    except:\n",
    "        pass\n",
    "    \n",
    "browser.quit()"
   ]
  },
  {
   "cell_type": "markdown",
   "metadata": {},
   "source": [
    "### To remove duplicates urls entries in the list by executing below line"
   ]
  },
  {
   "cell_type": "code",
   "execution_count": 5,
   "metadata": {},
   "outputs": [
    {
     "name": "stdout",
     "output_type": "stream",
     "text": [
      "Total Extracted URL's are : 174 <class 'list'>\n"
     ]
    }
   ],
   "source": [
    "urls = list(dict.fromkeys(urls))\n",
    "print(\"Total Extracted URL's are\" + ' : ' + str(len(urls)), type(urls))"
   ]
  },
  {
   "cell_type": "markdown",
   "metadata": {},
   "source": [
    "### Iterates urls through for loop. Scraping the Articles with above parameters"
   ]
  },
  {
   "cell_type": "code",
   "execution_count": 6,
   "metadata": {},
   "outputs": [
    {
     "name": "stdout",
     "output_type": "stream",
     "text": [
      "Wall time: 18min 50sibuneindia.com/2014/20140408/dun.htmmaces-for-top-court-verdict-on-panamagate-today/394557.htmll.htmlml.html/619408.html\n"
     ]
    }
   ],
   "source": [
    "%%time\n",
    "for index, url in enumerate(urls):\n",
    "    try:\n",
    "        # Parse the url to NewsPlease \n",
    "        soup = BeautifulSoup(get(url).text, 'lxml')\n",
    "        article = Article(url)\n",
    "        article.download()\n",
    "        article.parse()\n",
    "        article.nlp()\n",
    "        \n",
    "        # Extracts the Headlines\n",
    "        try:\n",
    "            try:\n",
    "                headlines.append(article.title.strip())\n",
    "            except:\n",
    "                headlines.append(soup.select_one('meta[property=\"og:title\"]')['content'].strip())\n",
    "        except:\n",
    "            headlines.append(None)\n",
    "            \n",
    "        # Extracts the Descriptions    \n",
    "        try:\n",
    "            try:\n",
    "                descriptions.append(soup.select_one('meta[property=\"og:description\"]')['content'].strip().replace('\\n', ' '))\n",
    "            except:\n",
    "                descriptions.append(article.meta_description.strip())\n",
    "        except:\n",
    "            descriptions.append(None)\n",
    "            \n",
    "        # Extracts the Authors\n",
    "        try:\n",
    "            try:\n",
    "                authors.append(soup.select_one('meta[name=\"author\"]')['content'].strip())\n",
    "            except:\n",
    "                authors.append(article.authors.strip())\n",
    "        except:\n",
    "            authors.append(None)\n",
    "        \n",
    "        # Extracts the published dates\n",
    "        try:\n",
    "            try:\n",
    "                dates.append(soup.select_one('meta[property=\"article:published_time\"]')['content'].strip())\n",
    "            except:\n",
    "                dates.append(str(article.publish_date))\n",
    "        except:\n",
    "            dates.append(None)\n",
    "            \n",
    "        # Extracts the news articles\n",
    "        try:\n",
    "            try:\n",
    "                news.append(soup.select_one('.storyText').text.replace('\\n', '').strip())\n",
    "            except:\n",
    "                news.append(' '.join(article.text.split()).replace(\"\\'\\'\",\" \").replace(\"\\'\", \"\").replace(\" / \", \"\"))\n",
    "        except:\n",
    "            news.append(None)\n",
    "            \n",
    "        # Extracts the news category\n",
    "        try:\n",
    "            category.append(article.meta_data['category'])\n",
    "        except:\n",
    "            category.append(None)\n",
    "            \n",
    "        # Extracts the news publication\n",
    "        try:\n",
    "            publication.append(article.meta_data['og']['site_name'])\n",
    "        except:\n",
    "            publication.append(None)\n",
    "\n",
    "        # Extracts Keywords and Summaries\n",
    "        try:\n",
    "            keywords.append(article.keywords)\n",
    "            summaries.append(article.summary)\n",
    "        except:\n",
    "            keywords.append(None)\n",
    "            summaries.append(None)\n",
    "                        \n",
    "    except:\n",
    "        headlines.append(None)\n",
    "        descriptions.append(None)\n",
    "        authors.append(None)\n",
    "        dates.append(None)\n",
    "        category.append(None)\n",
    "        publication.append(None)\n",
    "        news.append(None)\n",
    "        keywords.append(None)\n",
    "        summaries.append(None)\n",
    "\n",
    "    sys.stdout.write('\\r' + str(index) + ' : ' + str(url) + '\\r')\n",
    "    sys.stdout.flush()"
   ]
  },
  {
   "cell_type": "markdown",
   "metadata": {},
   "source": [
    "### Checking Array Length of each list to create DataFrame"
   ]
  },
  {
   "cell_type": "code",
   "execution_count": 7,
   "metadata": {},
   "outputs": [
    {
     "name": "stdout",
     "output_type": "stream",
     "text": [
      "174 174 174 174 174 174 174 174 174 174\n"
     ]
    }
   ],
   "source": [
    "print(len(headlines), len(descriptions), len(authors), len(dates), len(category), len(publication), len(news), len(keywords), len(summaries), len(urls))"
   ]
  },
  {
   "cell_type": "markdown",
   "metadata": {},
   "source": [
    "### Creating a csv file after checking array length and droping the missing values from the dataset"
   ]
  },
  {
   "cell_type": "code",
   "execution_count": 8,
   "metadata": {},
   "outputs": [
    {
     "data": {
      "text/html": [
       "<div>\n",
       "<style scoped>\n",
       "    .dataframe tbody tr th:only-of-type {\n",
       "        vertical-align: middle;\n",
       "    }\n",
       "\n",
       "    .dataframe tbody tr th {\n",
       "        vertical-align: top;\n",
       "    }\n",
       "\n",
       "    .dataframe thead th {\n",
       "        text-align: right;\n",
       "    }\n",
       "</style>\n",
       "<table border=\"1\" class=\"dataframe\">\n",
       "  <thead>\n",
       "    <tr style=\"text-align: right;\">\n",
       "      <th></th>\n",
       "      <th>Headlines</th>\n",
       "      <th>Descriptions</th>\n",
       "      <th>Authors</th>\n",
       "      <th>Published_Dates</th>\n",
       "      <th>Publication</th>\n",
       "      <th>Articles</th>\n",
       "      <th>category</th>\n",
       "      <th>Keywords</th>\n",
       "      <th>Summaries</th>\n",
       "      <th>Source_URLs</th>\n",
       "    </tr>\n",
       "  </thead>\n",
       "  <tbody>\n",
       "    <tr>\n",
       "      <th>0</th>\n",
       "      <td>Hope for alcoholics through AA: Experts</td>\n",
       "      <td>CHANDIGARH: There is a hope for hopeless alcoh...</td>\n",
       "      <td>Tribune News Service</td>\n",
       "      <td>2016-08-09T02:36:00</td>\n",
       "      <td>Tribuneindia News Service</td>\n",
       "      <td>Chandigarh, August 8There is a hope for hopele...</td>\n",
       "      <td>{}</td>\n",
       "      <td>[wanting, experts, organisations, medical, pub...</td>\n",
       "      <td>Chandigarh, August 8There is a hope for hopele...</td>\n",
       "      <td>https://www.tribuneindia.com/news/community/ho...</td>\n",
       "    </tr>\n",
       "    <tr>\n",
       "      <th>1</th>\n",
       "      <td>When she hits the bottle...</td>\n",
       "      <td>Today, globally India shows the third largest ...</td>\n",
       "      <td>Tribune News Service</td>\n",
       "      <td>2016-07-31T00:58:00</td>\n",
       "      <td>Tribuneindia News Service</td>\n",
       "      <td>Linda Chhakchhuak\\rToday, globally India shows...</td>\n",
       "      <td>{}</td>\n",
       "      <td>[alcohol, alcoholic, aai, hits, paite, cent, w...</td>\n",
       "      <td>Indeed, leading brands are not hesitant to con...</td>\n",
       "      <td>https://www.tribuneindia.com/news/society/when...</td>\n",
       "    </tr>\n",
       "    <tr>\n",
       "      <th>2</th>\n",
       "      <td>The Tribune, Chandigarh, India</td>\n",
       "      <td></td>\n",
       "      <td>None</td>\n",
       "      <td>2000-08-08 00:00:00</td>\n",
       "      <td>None</td>\n",
       "      <td>HEALTH Alcoholism is a disease like cancer or...</td>\n",
       "      <td>{}</td>\n",
       "      <td>[alcoholic, tribune, father, sharing, india, a...</td>\n",
       "      <td>The common man has to know that alcoholism is ...</td>\n",
       "      <td>https://www.tribuneindia.com/2000/20000808/cth...</td>\n",
       "    </tr>\n",
       "    <tr>\n",
       "      <th>3</th>\n",
       "      <td>Want to quit drinking? Walk into AA special me...</td>\n",
       "      <td>PANCHKULA: The Alcoholics Anonymous (AA), a wo...</td>\n",
       "      <td>Tribune News Service</td>\n",
       "      <td>2016-05-22T02:29:00</td>\n",
       "      <td>Tribuneindia News Service</td>\n",
       "      <td>Tribune News ServicePanchkula, May 21The Alcoh...</td>\n",
       "      <td>{}</td>\n",
       "      <td>[fellowship, drinking, walk, group, special, s...</td>\n",
       "      <td>The AA members would share their experiences, ...</td>\n",
       "      <td>https://www.tribuneindia.com/news/community/wa...</td>\n",
       "    </tr>\n",
       "    <tr>\n",
       "      <th>4</th>\n",
       "      <td>Kicking the bottle, one day at a time</td>\n",
       "      <td>The picturesque resort along the gushing water...</td>\n",
       "      <td>Pradeep Sharma</td>\n",
       "      <td>2015-06-21T01:57:00</td>\n",
       "      <td>Tribuneindia News Service</td>\n",
       "      <td>The picturesque resort along the gushing water...</td>\n",
       "      <td>{}</td>\n",
       "      <td>[alcohol, drinking, stop, kicking, help, life,...</td>\n",
       "      <td>However, the disease can be arrested “one day ...</td>\n",
       "      <td>https://www.tribuneindia.com/news/perspective/...</td>\n",
       "    </tr>\n",
       "  </tbody>\n",
       "</table>\n",
       "</div>"
      ],
      "text/plain": [
       "                                           Headlines  \\\n",
       "0            Hope for alcoholics through AA: Experts   \n",
       "1                        When she hits the bottle...   \n",
       "2                     The Tribune, Chandigarh, India   \n",
       "3  Want to quit drinking? Walk into AA special me...   \n",
       "4              Kicking the bottle, one day at a time   \n",
       "\n",
       "                                        Descriptions               Authors  \\\n",
       "0  CHANDIGARH: There is a hope for hopeless alcoh...  Tribune News Service   \n",
       "1  Today, globally India shows the third largest ...  Tribune News Service   \n",
       "2                                                                     None   \n",
       "3  PANCHKULA: The Alcoholics Anonymous (AA), a wo...  Tribune News Service   \n",
       "4  The picturesque resort along the gushing water...        Pradeep Sharma   \n",
       "\n",
       "       Published_Dates                Publication  \\\n",
       "0  2016-08-09T02:36:00  Tribuneindia News Service   \n",
       "1  2016-07-31T00:58:00  Tribuneindia News Service   \n",
       "2  2000-08-08 00:00:00                       None   \n",
       "3  2016-05-22T02:29:00  Tribuneindia News Service   \n",
       "4  2015-06-21T01:57:00  Tribuneindia News Service   \n",
       "\n",
       "                                            Articles category  \\\n",
       "0  Chandigarh, August 8There is a hope for hopele...       {}   \n",
       "1  Linda Chhakchhuak\\rToday, globally India shows...       {}   \n",
       "2  HEALTH Alcoholism is a disease like cancer or...       {}   \n",
       "3  Tribune News ServicePanchkula, May 21The Alcoh...       {}   \n",
       "4  The picturesque resort along the gushing water...       {}   \n",
       "\n",
       "                                            Keywords  \\\n",
       "0  [wanting, experts, organisations, medical, pub...   \n",
       "1  [alcohol, alcoholic, aai, hits, paite, cent, w...   \n",
       "2  [alcoholic, tribune, father, sharing, india, a...   \n",
       "3  [fellowship, drinking, walk, group, special, s...   \n",
       "4  [alcohol, drinking, stop, kicking, help, life,...   \n",
       "\n",
       "                                           Summaries  \\\n",
       "0  Chandigarh, August 8There is a hope for hopele...   \n",
       "1  Indeed, leading brands are not hesitant to con...   \n",
       "2  The common man has to know that alcoholism is ...   \n",
       "3  The AA members would share their experiences, ...   \n",
       "4  However, the disease can be arrested “one day ...   \n",
       "\n",
       "                                         Source_URLs  \n",
       "0  https://www.tribuneindia.com/news/community/ho...  \n",
       "1  https://www.tribuneindia.com/news/society/when...  \n",
       "2  https://www.tribuneindia.com/2000/20000808/cth...  \n",
       "3  https://www.tribuneindia.com/news/community/wa...  \n",
       "4  https://www.tribuneindia.com/news/perspective/...  "
      ]
     },
     "execution_count": 8,
     "metadata": {},
     "output_type": "execute_result"
    }
   ],
   "source": [
    "if len(headlines) == len(descriptions) == len(authors) == len(dates) == len(news) == len(publication) == len(keywords) == len(summaries) == len(urls) == len(category):\n",
    "    tbl = pd.DataFrame({'Headlines' : headlines,\n",
    "                        'Descriptions' : descriptions,\n",
    "                        'Authors' : authors,\n",
    "                        'Published_Dates' : dates,\n",
    "                        'Publication' : publication,\n",
    "                        'Articles' : news,\n",
    "                        'category' : category,\n",
    "                        'Keywords' : keywords,\n",
    "                        'Summaries' : summaries,\n",
    "                        'Source_URLs' : urls})\n",
    "    tbl.dropna()\n",
    "    path = 'C:\\\\Users\\\\GM\\\\Desktop\\\\!Code!\\\\CDRI\\\\Alcoholics Anonymous\\\\Data Extraction\\\\#Dataset\\\\'\n",
    "    tbl.to_csv(path+'The_Tribune.csv', index=False)\n",
    "else:\n",
    "    print('Array lenght does not match!')\n",
    "\n",
    "tbl.head()"
   ]
  },
  {
   "cell_type": "code",
   "execution_count": 9,
   "metadata": {},
   "outputs": [
    {
     "data": {
      "text/plain": [
       "(174, 10)"
      ]
     },
     "execution_count": 9,
     "metadata": {},
     "output_type": "execute_result"
    }
   ],
   "source": [
    "tbl.shape"
   ]
  }
 ],
 "metadata": {
  "kernelspec": {
   "display_name": "Python 3",
   "language": "python",
   "name": "python3"
  },
  "language_info": {
   "codemirror_mode": {
    "name": "ipython",
    "version": 3
   },
   "file_extension": ".py",
   "mimetype": "text/x-python",
   "name": "python",
   "nbconvert_exporter": "python",
   "pygments_lexer": "ipython3",
   "version": "3.7.1"
  }
 },
 "nbformat": 4,
 "nbformat_minor": 2
}
