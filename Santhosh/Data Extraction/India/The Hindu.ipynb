{
 "cells": [
  {
   "cell_type": "markdown",
   "metadata": {},
   "source": [
    "## Alcholic Anonymous News articles extraction from The Hindu Newspaper. Data Extraction of following parameters\n",
    "\n",
    "- Headline\n",
    "- Description\n",
    "- Author\n",
    "- Published_Date\n",
    "- News\n",
    "- URL\n",
    "\n",
    "\n",
    "### Importing the necessary Libraries"
   ]
  },
  {
   "cell_type": "code",
   "execution_count": 1,
   "metadata": {},
   "outputs": [],
   "source": [
    "from bs4 import BeautifulSoup # Python library for pulling data out of HTML and XML files\n",
    "from requests import get # standard for making HTTP requests in Python\n",
    "import pandas as pd # library written for data manipulation and analysis\n",
    "import sys #  System-specific parameters and functions."
   ]
  },
  {
   "cell_type": "markdown",
   "metadata": {},
   "source": [
    "### Creating Empty lists for Alcholic Anonymous News Articles parameters data to be extracted"
   ]
  },
  {
   "cell_type": "code",
   "execution_count": 2,
   "metadata": {},
   "outputs": [],
   "source": [
    "headlines, descriptions, dates, authors, news, urls = [], [], [], [], [], []"
   ]
  },
  {
   "cell_type": "markdown",
   "metadata": {},
   "source": [
    "### Finding the total no.of.pages by total no.of articles from The Hindu search results"
   ]
  },
  {
   "cell_type": "code",
   "execution_count": 3,
   "metadata": {},
   "outputs": [
    {
     "data": {
      "text/plain": [
       "988"
      ]
     },
     "execution_count": 3,
     "metadata": {},
     "output_type": "execute_result"
    }
   ],
   "source": [
    "url = 'https://www.thehindu.com/search/?q=Alcoholic%20Anonymous&order=DESC&sort=publishdate'\n",
    "soup = BeautifulSoup(get(url).text, 'lxml')\n",
    "\n",
    "# for collecting the total number of article\n",
    "article_count = int(''.join(i for i in soup.select_one('.section-controls').span.text.split('of')[1] if i.isdigit()))\n",
    "\n",
    "# to find the no.of pages\n",
    "max_pages = int((int(article_count)//12) + 2)\n",
    "max_pages"
   ]
  },
  {
   "cell_type": "markdown",
   "metadata": {},
   "source": [
    "### Iterates max_pages value through for loop. Scraping the Articles urls along with basic details which comes handly as follows  \n",
    "- Headline\n",
    "- Author\n",
    "- Published_Date\n",
    "- URL"
   ]
  },
  {
   "cell_type": "code",
   "execution_count": 4,
   "metadata": {},
   "outputs": [
    {
     "name": "stdout",
     "output_type": "stream",
     "text": [
      "986 : 988Wall time: 26min 12s\n"
     ]
    }
   ],
   "source": [
    "%%time\n",
    "for index, i in enumerate(range(1, max_pages)):    \n",
    "    url = 'https://www.thehindu.com/search/?q=Alcoholic%20Anonymous&order=DESC&sort=publishdate&page=' + str(i)\n",
    "    soup = BeautifulSoup(get(url).text, 'lxml')\n",
    "    \n",
    "    # Extracts url's \n",
    "    url = [soup.select('a.story-card75x1-text')[i]['href'] for i in range(len(soup.select('a.story-card75x1-text')))]\n",
    "    urls.extend(url)\n",
    "    \n",
    "    # Extracts headline's\n",
    "    headline = [soup.select('.story-card75x1-text')[i].text.strip() for i in range(len(soup.select('.section-name')))]\n",
    "    headlines.extend(headline)\n",
    "    \n",
    "    # Extracts author's \n",
    "    for i in range(len(soup.select('.story-card-news'))):\n",
    "        try:\n",
    "            authors.append(soup.select('.story-card-news')[i].select_one('.story-card-33-author-name').text.strip())\n",
    "        except:\n",
    "            authors.append(None)\n",
    "    \n",
    "    # Extracts Date's\n",
    "    date = [soup.select('.dateline')[i].text.strip() for i in range(len(soup.select('.dateline')))]\n",
    "    dates.extend(date)\n",
    "    \n",
    "    sys.stdout.write('\\r' + str(index) + ' : ' + str(max_pages))\n",
    "    sys.stdout.flush()"
   ]
  },
  {
   "cell_type": "markdown",
   "metadata": {},
   "source": [
    "### Iterates urls through for loop. Scraping the Articles using BeautifulSoup4 which extracts the followings\n",
    "\n",
    "- Description\n",
    "- News"
   ]
  },
  {
   "cell_type": "code",
   "execution_count": 5,
   "metadata": {},
   "outputs": [
    {
     "name": "stdout",
     "output_type": "stream",
     "text": [
      "Wall time: 5h 2min 5shehindu.com/todays-paper/tp-miscellaneous/in-madurai-today/article3233838.ece3235280.ece46450.ece9.ecece/article3169273.ece7.ece569.eceeceps-have-turned-life-around-for-many-troubled-young-people/article8509546.ece\n"
     ]
    }
   ],
   "source": [
    "%%time\n",
    "for index, url in enumerate(urls):\n",
    "    try:\n",
    "        # Parse the url to NewsPlease \n",
    "        soup = BeautifulSoup(get(url).text, 'lxml')\n",
    "            \n",
    "        try:\n",
    "            # Extracts the Descriptions\n",
    "            desc = soup.select_one('meta[name=\"description\"]')['content'].strip().replace('\\n', ' ')\n",
    "            descriptions.append(desc)\n",
    "        except:\n",
    "            descriptions.append(None)\n",
    "            \n",
    "        try:\n",
    "            # Extracts the news articles\n",
    "            para = soup.select_one('.article').select('p')\n",
    "            text = ''.join(str(e.text.strip().replace('\\n', '').replace(\"[^a-zA-Z]\", \" \")) for e in para)\n",
    "            news.append(text)\n",
    "        except:\n",
    "            news.append(None)\n",
    "            \n",
    "    except:\n",
    "        descriptions.append(None)\n",
    "        news.append(None)\n",
    "\n",
    "    sys.stdout.write('\\r' + str(index) + ' : ' + str(url) + '\\r')\n",
    "    sys.stdout.flush()"
   ]
  },
  {
   "cell_type": "markdown",
   "metadata": {},
   "source": [
    "### Checking Array Length of each list to create DataFrame"
   ]
  },
  {
   "cell_type": "code",
   "execution_count": 6,
   "metadata": {},
   "outputs": [
    {
     "name": "stdout",
     "output_type": "stream",
     "text": [
      "11842 11842 11842 11842 11842 11842\n"
     ]
    }
   ],
   "source": [
    "print(len(headlines), len(descriptions), len(authors), len(dates), len(news), len(urls))"
   ]
  },
  {
   "cell_type": "markdown",
   "metadata": {},
   "source": [
    "### Creating a csv file after validating  array length"
   ]
  },
  {
   "cell_type": "code",
   "execution_count": 7,
   "metadata": {},
   "outputs": [],
   "source": [
    "tbl = pd.DataFrame({'Headlines' : headlines,\n",
    "                    'Descriptions' : descriptions,\n",
    "                    'Authors' : authors,\n",
    "                    'Published_Dates' : dates, \n",
    "                    'Articles' : news,\n",
    "                    'Source_URLs' : urls})\n",
    "\n",
    "tbl.to_csv('The_Hindu.csv', index=False)"
   ]
  }
 ],
 "metadata": {
  "kernelspec": {
   "display_name": "Python 3",
   "language": "python",
   "name": "python3"
  },
  "language_info": {
   "codemirror_mode": {
    "name": "ipython",
    "version": 3
   },
   "file_extension": ".py",
   "mimetype": "text/x-python",
   "name": "python",
   "nbconvert_exporter": "python",
   "pygments_lexer": "ipython3",
   "version": "3.7.1"
  }
 },
 "nbformat": 4,
 "nbformat_minor": 2
}
