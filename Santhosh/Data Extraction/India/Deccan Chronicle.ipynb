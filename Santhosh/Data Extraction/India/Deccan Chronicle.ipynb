{
 "cells": [
  {
   "cell_type": "markdown",
   "metadata": {},
   "source": [
    "## Alcholic Anonymous News articles extraction from Deccan Chronicle. Data Extraction of following parameters\n",
    "- Headline\n",
    "- Description\n",
    "- Author\n",
    "- Published Date\n",
    "- Category\n",
    "- Publication\n",
    "- News\n",
    "- URL\n",
    "- Keywords\n",
    "- Summary\n",
    "\n",
    "### Importing the necessary Libraries"
   ]
  },
  {
   "cell_type": "code",
   "execution_count": 1,
   "metadata": {},
   "outputs": [],
   "source": [
    "from selenium.webdriver.chrome.options import Options # enables options in web browser\n",
    "from selenium import webdriver # web-based automation tool for Python\n",
    "from newspaper import Article # Article scraping & curation\n",
    "from bs4 import BeautifulSoup # Python library for pulling data out of HTML and XML files\n",
    "from requests import get # standard for making HTTP requests in Python\n",
    "import pandas as pd # library written for data manipulation and analysis\n",
    "import sys, time #  System-specific parameters and functions."
   ]
  },
  {
   "cell_type": "markdown",
   "metadata": {},
   "source": [
    "### Creating Empty lists for Alcholic Anonymous News Articles parameters data to be extracted"
   ]
  },
  {
   "cell_type": "code",
   "execution_count": 2,
   "metadata": {},
   "outputs": [],
   "source": [
    "headlines, descriptions, dates, authors, news, keywords, summaries, urls, category, publication = [], [], [], [], [], [], [], [], [], []"
   ]
  },
  {
   "cell_type": "markdown",
   "metadata": {},
   "source": [
    "### Finding the total no.of.pages by total no.of articles from google search results¶"
   ]
  },
  {
   "cell_type": "code",
   "execution_count": 3,
   "metadata": {},
   "outputs": [],
   "source": [
    "keyword = 'Alcoholics Anonymous site:www.deccanchronicle.com'\n",
    "\n",
    "url = 'https://www.google.com/search?q=' + '+'.join(keyword.split())\n",
    "\n",
    "soup = BeautifulSoup(get(url).text, 'lxml')\n",
    "try:\n",
    "    # Extracts the digits if it the resulted number without comma ','. eg: About 680 results (0.23 seconds)\n",
    "    max_pages = round([int(s) for s in soup.select_one('div#resultStats').text.split() if s.isdigit()][0]/10)\n",
    "    max_pages = max_pages + 1\n",
    "except:\n",
    "    # Extracts the digits if it the resulted number without comma ','. eg: About 1,080 results (0.23 seconds)\n",
    "    max_pages = round(int(''.join(i for i in soup.select_one('div#resultStats').text if i.isdigit()))/10)\n",
    "    max_pages = max_pages + 1"
   ]
  },
  {
   "cell_type": "markdown",
   "metadata": {},
   "source": [
    "### Iterates max_pages value through while loop. Scraping the Articles urls"
   ]
  },
  {
   "cell_type": "code",
   "execution_count": 4,
   "metadata": {},
   "outputs": [
    {
     "name": "stdout",
     "output_type": "stream",
     "text": [
      "3 : 10\r"
     ]
    }
   ],
   "source": [
    "options = Options()\n",
    "options.headless = True\n",
    "browser = webdriver.Chrome(options=options)\n",
    "browser.get(url)\n",
    "\n",
    "index = 0\n",
    "\n",
    "while True:\n",
    "    try:\n",
    "        index +=1\n",
    "        page = browser.page_source\n",
    "        soup = BeautifulSoup(page, 'lxml')\n",
    "        linky = [soup.select('.r')[i].a['href'] for i in range(len(soup.select('.r')))]\n",
    "        urls.extend(linky)\n",
    "        if index == max_pages:\n",
    "            break\n",
    "        browser.find_element_by_xpath('//*[@id=\"pnnext\"]/span[2]').click()\n",
    "        time.sleep(2)\n",
    "        sys.stdout.write('\\r' + str(index) + ' : ' + str(max_pages) + '\\r')\n",
    "        sys.stdout.flush()\n",
    "    except:\n",
    "        pass\n",
    "    \n",
    "browser.quit()"
   ]
  },
  {
   "cell_type": "markdown",
   "metadata": {},
   "source": [
    "### To remove duplicates urls entries in the list by executing below line"
   ]
  },
  {
   "cell_type": "code",
   "execution_count": 5,
   "metadata": {},
   "outputs": [
    {
     "name": "stdout",
     "output_type": "stream",
     "text": [
      "Total Extracted URL's are : 36 <class 'list'>\n"
     ]
    }
   ],
   "source": [
    "urls = list(dict.fromkeys(urls))\n",
    "print(\"Total Extracted URL's are\" + ' : ' + str(len(urls)), type(urls))"
   ]
  },
  {
   "cell_type": "markdown",
   "metadata": {},
   "source": [
    "### Iterates urls through for loop. Scraping the Articles using BeautifulSoup4 which extracts above parameters"
   ]
  },
  {
   "cell_type": "code",
   "execution_count": 6,
   "metadata": {},
   "outputs": [
    {
     "name": "stderr",
     "output_type": "stream",
     "text": [
      "C:\\ProgramData\\Anaconda3\\lib\\site-packages\\dateutil\\parser\\_parser.py:1204: UnknownTimezoneWarning: tzname IST identified but not understood.  Pass `tzinfos` argument in order to correctly return a timezone-aware datetime.  In a future version, this will raise an exception.\n",
      "  category=UnknownTimezoneWarning)\n"
     ]
    },
    {
     "name": "stdout",
     "output_type": "stream",
     "text": [
      "2 : https://www.deccanchronicle.com/nation/current-affairs/220516/the-chat-room-not-prohibition-rehab-is-the-answer-to-alcoholism.html\r"
     ]
    },
    {
     "name": "stderr",
     "output_type": "stream",
     "text": [
      "C:\\ProgramData\\Anaconda3\\lib\\site-packages\\dateutil\\parser\\_parser.py:1204: UnknownTimezoneWarning: tzname IST identified but not understood.  Pass `tzinfos` argument in order to correctly return a timezone-aware datetime.  In a future version, this will raise an exception.\n",
      "  category=UnknownTimezoneWarning)\n"
     ]
    },
    {
     "name": "stdout",
     "output_type": "stream",
     "text": [
      "Wall time: 4min 39sccanchronicle.com/nation/current-affairs/100717/karnataka-fingerprint-experts-hand-in-cop-job-scam.htmla-refugee-camps.htmlml\n"
     ]
    }
   ],
   "source": [
    "%%time\n",
    "for index, url in enumerate(urls):\n",
    "    try:\n",
    "        # Parse the url to NewsPlease \n",
    "        soup = BeautifulSoup(get(url).text, 'lxml')\n",
    "        article = Article(url)\n",
    "        article.download()\n",
    "        article.parse()\n",
    "        article.nlp()\n",
    "        \n",
    "        # Extracts the Headlines\n",
    "        try:\n",
    "            try:\n",
    "                headlines.append(article.title.strip())\n",
    "            except:\n",
    "                headlines.append(soup.select_one('meta[property=\"og:title\"]')['content'].strip())\n",
    "        except:\n",
    "            headlines.append(None)\n",
    "            \n",
    "        # Extracts the Descriptions    \n",
    "        try:\n",
    "            try:\n",
    "                descriptions.append(soup.select_one('meta[property=\"og:description\"]')['content'].strip().replace('\\n', ' '))\n",
    "            except:\n",
    "                descriptions.append(article.meta_description.strip())\n",
    "        except:\n",
    "            descriptions.append(None)\n",
    "            \n",
    "        # Extracts the Authors\n",
    "        try:\n",
    "            try:\n",
    "                authors.append(soup.select_one('meta[name=\"author\"]')['content'].strip())\n",
    "            except:\n",
    "                authors.append(article.authors.strip())\n",
    "        except:\n",
    "            authors.append(None)\n",
    "        \n",
    "        # Extracts the published dates\n",
    "        try:\n",
    "            try:\n",
    "                dates.append(soup.select_one('meta[property=\"article:published_time\"]')['content'].strip())\n",
    "            except:\n",
    "                dates.append(str(article.publish_date))\n",
    "        except:\n",
    "            dates.append(None)\n",
    "            \n",
    "        # Extracts the news articles\n",
    "        try:\n",
    "            try:\n",
    "                news.append(soup.select_one('.storyText').text.replace('\\n', '').strip())\n",
    "            except:\n",
    "                news.append(' '.join(article.text.split()).replace(\"\\'\\'\",\" \").replace(\"\\'\", \"\").replace(\" / \", \"\"))\n",
    "        except:\n",
    "            news.append(None)\n",
    "            \n",
    "        # Extracts the news category\n",
    "        try:\n",
    "            category.append(article.meta_data['category'])\n",
    "        except:\n",
    "            category.append(None)\n",
    "            \n",
    "        # Extracts the news publication\n",
    "        try:\n",
    "            publication.append(article.meta_data['og']['site_name'])\n",
    "        except:\n",
    "            publication.append(None)\n",
    "\n",
    "        # Extracts Keywords and Summaries\n",
    "        try:\n",
    "            keywords.append(article.keywords)\n",
    "            summaries.append(article.summary)\n",
    "        except:\n",
    "            keywords.append(None)\n",
    "            summaries.append(None)\n",
    "                        \n",
    "    except:\n",
    "        headlines.append(None)\n",
    "        descriptions.append(None)\n",
    "        authors.append(None)\n",
    "        dates.append(None)\n",
    "        category.append(None)\n",
    "        publication.append(None)\n",
    "        news.append(None)\n",
    "        keywords.append(None)\n",
    "        summaries.append(None)\n",
    "\n",
    "    sys.stdout.write('\\r' + str(index) + ' : ' + str(url) + '\\r')\n",
    "    sys.stdout.flush()"
   ]
  },
  {
   "cell_type": "markdown",
   "metadata": {},
   "source": [
    "### Checking Array Length of each list to create DataFrame"
   ]
  },
  {
   "cell_type": "code",
   "execution_count": 7,
   "metadata": {},
   "outputs": [
    {
     "name": "stdout",
     "output_type": "stream",
     "text": [
      "36 36 36 36 36 36 36 36 36 36\n"
     ]
    }
   ],
   "source": [
    "print(len(headlines), len(descriptions), len(authors), len(dates), len(category), len(publication), len(news), len(keywords), len(summaries), len(urls))"
   ]
  },
  {
   "cell_type": "markdown",
   "metadata": {},
   "source": [
    "### Creating a csv file after checking array length and droping the missing values from the dataset"
   ]
  },
  {
   "cell_type": "code",
   "execution_count": 8,
   "metadata": {},
   "outputs": [
    {
     "data": {
      "text/html": [
       "<div>\n",
       "<style scoped>\n",
       "    .dataframe tbody tr th:only-of-type {\n",
       "        vertical-align: middle;\n",
       "    }\n",
       "\n",
       "    .dataframe tbody tr th {\n",
       "        vertical-align: top;\n",
       "    }\n",
       "\n",
       "    .dataframe thead th {\n",
       "        text-align: right;\n",
       "    }\n",
       "</style>\n",
       "<table border=\"1\" class=\"dataframe\">\n",
       "  <thead>\n",
       "    <tr style=\"text-align: right;\">\n",
       "      <th></th>\n",
       "      <th>Headlines</th>\n",
       "      <th>Descriptions</th>\n",
       "      <th>Authors</th>\n",
       "      <th>Published_Dates</th>\n",
       "      <th>Publication</th>\n",
       "      <th>Articles</th>\n",
       "      <th>category</th>\n",
       "      <th>Keywords</th>\n",
       "      <th>Summaries</th>\n",
       "      <th>Source_URLs</th>\n",
       "    </tr>\n",
       "  </thead>\n",
       "  <tbody>\n",
       "    <tr>\n",
       "      <th>0</th>\n",
       "      <td>Alcoholics Anonymous: The helping hand for add...</td>\n",
       "      <td>This group is not a rehabilitation centre or a...</td>\n",
       "      <td>None</td>\n",
       "      <td>May 3, 2016, 3:24 am IST</td>\n",
       "      <td>Deccan Chronicle</td>\n",
       "      <td>What begins as social drinking turns into alco...</td>\n",
       "      <td>Health and Wellbeing</td>\n",
       "      <td>[addicts, anonymous, leave, turns, touched, ha...</td>\n",
       "      <td>What begins as social drinking turns into alco...</td>\n",
       "      <td>https://www.deccanchronicle.com/lifestyle/heal...</td>\n",
       "    </tr>\n",
       "    <tr>\n",
       "      <th>1</th>\n",
       "      <td>Alcoholics Anonymous</td>\n",
       "      <td>Alcoholics Anonymous</td>\n",
       "      <td>None</td>\n",
       "      <td>None</td>\n",
       "      <td>Deccan Chronicle</td>\n",
       "      <td>Alcoholics Anonymous: The helping hand for add...</td>\n",
       "      <td>{}</td>\n",
       "      <td>[anonymous, experiences03, hand, group, men, s...</td>\n",
       "      <td>Alcoholics Anonymous: The helping hand for add...</td>\n",
       "      <td>https://www.deccanchronicle.com/content/tags/a...</td>\n",
       "    </tr>\n",
       "    <tr>\n",
       "      <th>2</th>\n",
       "      <td>The chat room: ‘Not prohibition, rehab is the ...</td>\n",
       "      <td>Drinking is now a celebrated part of our cultu...</td>\n",
       "      <td>None</td>\n",
       "      <td>May 22, 2016, 5:53 am IST</td>\n",
       "      <td>Deccan Chronicle</td>\n",
       "      <td>Last week, Samrat Chadha, one of the head honc...</td>\n",
       "      <td>Current Affairs</td>\n",
       "      <td>[know, room, society, problem, suresh, dont, a...</td>\n",
       "      <td>Chadha, he said, exhibits definite signs of a ...</td>\n",
       "      <td>https://www.deccanchronicle.com/nation/current...</td>\n",
       "    </tr>\n",
       "    <tr>\n",
       "      <th>3</th>\n",
       "      <td>Helping alcoholics kick the bottle!</td>\n",
       "      <td>Today Harsha is a happily married man and he c...</td>\n",
       "      <td>None</td>\n",
       "      <td>Aug 28, 2017, 1:23 am IST</td>\n",
       "      <td>Deccan Chronicle</td>\n",
       "      <td>BENGALURU: Despite measures being taken by sev...</td>\n",
       "      <td>Viral and Trending</td>\n",
       "      <td>[members, good, volunteers, individual, kick, ...</td>\n",
       "      <td>BENGALURU: Despite measures being taken by sev...</td>\n",
       "      <td>https://www.deccanchronicle.com/lifestyle/vira...</td>\n",
       "    </tr>\n",
       "    <tr>\n",
       "      <th>4</th>\n",
       "      <td>We are addicted to the absence of absence, say...</td>\n",
       "      <td>Actor-director Pooja Bhatt talks about dealing...</td>\n",
       "      <td>None</td>\n",
       "      <td>Apr 1, 2017, 12:23 am IST</td>\n",
       "      <td>Deccan Chronicle</td>\n",
       "      <td>Power, determination and the unabashed guts to...</td>\n",
       "      <td>Bollywood</td>\n",
       "      <td>[life, having, good, absence, day, addicted, c...</td>\n",
       "      <td>Power, determination and the unabashed guts to...</td>\n",
       "      <td>https://www.deccanchronicle.com/entertainment/...</td>\n",
       "    </tr>\n",
       "  </tbody>\n",
       "</table>\n",
       "</div>"
      ],
      "text/plain": [
       "                                           Headlines  \\\n",
       "0  Alcoholics Anonymous: The helping hand for add...   \n",
       "1                               Alcoholics Anonymous   \n",
       "2  The chat room: ‘Not prohibition, rehab is the ...   \n",
       "3                Helping alcoholics kick the bottle!   \n",
       "4  We are addicted to the absence of absence, say...   \n",
       "\n",
       "                                        Descriptions Authors  \\\n",
       "0  This group is not a rehabilitation centre or a...    None   \n",
       "1                               Alcoholics Anonymous    None   \n",
       "2  Drinking is now a celebrated part of our cultu...    None   \n",
       "3  Today Harsha is a happily married man and he c...    None   \n",
       "4  Actor-director Pooja Bhatt talks about dealing...    None   \n",
       "\n",
       "             Published_Dates       Publication  \\\n",
       "0   May 3, 2016, 3:24 am IST  Deccan Chronicle   \n",
       "1                       None  Deccan Chronicle   \n",
       "2  May 22, 2016, 5:53 am IST  Deccan Chronicle   \n",
       "3  Aug 28, 2017, 1:23 am IST  Deccan Chronicle   \n",
       "4  Apr 1, 2017, 12:23 am IST  Deccan Chronicle   \n",
       "\n",
       "                                            Articles              category  \\\n",
       "0  What begins as social drinking turns into alco...  Health and Wellbeing   \n",
       "1  Alcoholics Anonymous: The helping hand for add...                    {}   \n",
       "2  Last week, Samrat Chadha, one of the head honc...       Current Affairs   \n",
       "3  BENGALURU: Despite measures being taken by sev...    Viral and Trending   \n",
       "4  Power, determination and the unabashed guts to...             Bollywood   \n",
       "\n",
       "                                            Keywords  \\\n",
       "0  [addicts, anonymous, leave, turns, touched, ha...   \n",
       "1  [anonymous, experiences03, hand, group, men, s...   \n",
       "2  [know, room, society, problem, suresh, dont, a...   \n",
       "3  [members, good, volunteers, individual, kick, ...   \n",
       "4  [life, having, good, absence, day, addicted, c...   \n",
       "\n",
       "                                           Summaries  \\\n",
       "0  What begins as social drinking turns into alco...   \n",
       "1  Alcoholics Anonymous: The helping hand for add...   \n",
       "2  Chadha, he said, exhibits definite signs of a ...   \n",
       "3  BENGALURU: Despite measures being taken by sev...   \n",
       "4  Power, determination and the unabashed guts to...   \n",
       "\n",
       "                                         Source_URLs  \n",
       "0  https://www.deccanchronicle.com/lifestyle/heal...  \n",
       "1  https://www.deccanchronicle.com/content/tags/a...  \n",
       "2  https://www.deccanchronicle.com/nation/current...  \n",
       "3  https://www.deccanchronicle.com/lifestyle/vira...  \n",
       "4  https://www.deccanchronicle.com/entertainment/...  "
      ]
     },
     "execution_count": 8,
     "metadata": {},
     "output_type": "execute_result"
    }
   ],
   "source": [
    "if len(headlines) == len(descriptions) == len(authors) == len(dates) == len(news) == len(publication) == len(keywords) == len(summaries) == len(urls) == len(category):\n",
    "    tbl = pd.DataFrame({'Headlines' : headlines,\n",
    "                        'Descriptions' : descriptions,\n",
    "                        'Authors' : authors,\n",
    "                        'Published_Dates' : dates,\n",
    "                        'Publication' : publication,\n",
    "                        'Articles' : news,\n",
    "                        'category' : category,\n",
    "                        'Keywords' : keywords,\n",
    "                        'Summaries' : summaries,\n",
    "                        'Source_URLs' : urls})\n",
    "    tbl.dropna()\n",
    "    path = 'C:\\\\Users\\\\GM\\\\Desktop\\\\!Code!\\\\CDRI\\\\Alcoholics Anonymous\\\\Data Extraction\\\\#Dataset\\\\'\n",
    "    tbl.to_csv(path+'Deccan_Chronicle.csv', index=False)\n",
    "else:\n",
    "    print('Array lenght does not match!')\n",
    "\n",
    "tbl.head()"
   ]
  }
 ],
 "metadata": {
  "kernelspec": {
   "display_name": "Python 3",
   "language": "python",
   "name": "python3"
  },
  "language_info": {
   "codemirror_mode": {
    "name": "ipython",
    "version": 3
   },
   "file_extension": ".py",
   "mimetype": "text/x-python",
   "name": "python",
   "nbconvert_exporter": "python",
   "pygments_lexer": "ipython3",
   "version": "3.7.1"
  }
 },
 "nbformat": 4,
 "nbformat_minor": 2
}
