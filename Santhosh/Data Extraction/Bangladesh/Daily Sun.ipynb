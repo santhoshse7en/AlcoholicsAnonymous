{
 "cells": [
  {
   "cell_type": "markdown",
   "metadata": {},
   "source": [
    "## Alcholic Anonymous News articles extraction from Daily Sun. Data Extraction of following parameters\n",
    "- Headline\n",
    "- Description\n",
    "- Author\n",
    "- Published Date\n",
    "- Category\n",
    "- Publication\n",
    "- News\n",
    "- URL\n",
    "- Keywords\n",
    "- Summary\n",
    "\n",
    "### Importing the necessary Libraries"
   ]
  },
  {
   "cell_type": "code",
   "execution_count": 1,
   "metadata": {},
   "outputs": [],
   "source": [
    "from selenium.webdriver.chrome.options import Options # enables options in web browser\n",
    "from selenium import webdriver # web-based automation tool for Python\n",
    "from newspaper import Article # Article scraping & curation\n",
    "from bs4 import BeautifulSoup # Python library for pulling data out of HTML and XML files\n",
    "from requests import get # standard for making HTTP requests in Python\n",
    "import pandas as pd # library written for data manipulation and analysis\n",
    "import sys, time #  System-specific parameters and functions"
   ]
  },
  {
   "cell_type": "markdown",
   "metadata": {},
   "source": [
    "### Creating Empty lists for Alcholic Anonymous News Articles parameters data to be extracted"
   ]
  },
  {
   "cell_type": "code",
   "execution_count": 2,
   "metadata": {},
   "outputs": [],
   "source": [
    "headlines, descriptions, dates, authors, news, keywords, summaries, urls, category, publication = [], [], [], [], [], [], [], [], [], []"
   ]
  },
  {
   "cell_type": "markdown",
   "metadata": {},
   "source": [
    "### Finding the total no.of.pages by total no.of articles from google search results¶"
   ]
  },
  {
   "cell_type": "code",
   "execution_count": 3,
   "metadata": {},
   "outputs": [],
   "source": [
    "keyword = 'Alcoholics Anonymous site:www.dailysun.co.za'\n",
    "\n",
    "url = 'https://www.google.com/search?q=' + '+'.join(keyword.split())\n",
    "\n",
    "soup = BeautifulSoup(get(url).text, 'lxml')\n",
    "try:\n",
    "    # Extracts the digits if it the resulted number without comma ','. eg: About 680 results (0.23 seconds)\n",
    "    max_pages = round([int(s) for s in soup.select_one('div#resultStats').text.split() if s.isdigit()][0]/10)\n",
    "    max_pages = max_pages + 1\n",
    "except:\n",
    "    # Extracts the digits if it the resulted number without comma ','. eg: About 1,080 results (0.23 seconds)\n",
    "    max_pages = round(int(''.join(i for i in soup.select_one('div#resultStats').text if i.isdigit()))/10)\n",
    "    max_pages = max_pages + 1"
   ]
  },
  {
   "cell_type": "markdown",
   "metadata": {},
   "source": [
    "### Iterates max_pages value through while loop. Scraping the Articles urls"
   ]
  },
  {
   "cell_type": "code",
   "execution_count": 4,
   "metadata": {},
   "outputs": [],
   "source": [
    "options = Options()\n",
    "options.headless = True\n",
    "browser = webdriver.Chrome(options=options)\n",
    "browser.get(url)\n",
    "\n",
    "index = 0\n",
    "\n",
    "while True:\n",
    "    try:\n",
    "        index +=1\n",
    "        page = browser.page_source\n",
    "        soup = BeautifulSoup(page, 'lxml')\n",
    "        linky = [soup.select('.r')[i].a['href'] for i in range(len(soup.select('.r')))]\n",
    "        urls.extend(linky)\n",
    "        if index == max_pages:\n",
    "            break\n",
    "        browser.find_element_by_xpath('//*[@id=\"pnnext\"]/span[2]').click()\n",
    "        time.sleep(2)\n",
    "        sys.stdout.write('\\r' + str(index) + ' : ' + str(max_pages) + '\\r')\n",
    "        sys.stdout.flush()\n",
    "    except:\n",
    "        pass\n",
    "    \n",
    "browser.quit()"
   ]
  },
  {
   "cell_type": "markdown",
   "metadata": {},
   "source": [
    "### To remove duplicates urls entries in the list by executing below line"
   ]
  },
  {
   "cell_type": "code",
   "execution_count": 5,
   "metadata": {},
   "outputs": [
    {
     "name": "stdout",
     "output_type": "stream",
     "text": [
      "Total Extracted URL's are : 9 <class 'list'>\n"
     ]
    }
   ],
   "source": [
    "urls = list(dict.fromkeys(urls))\n",
    "print(\"Total Extracted URL's are\" + ' : ' + str(len(urls)), type(urls))"
   ]
  },
  {
   "cell_type": "markdown",
   "metadata": {},
   "source": [
    "### Iterates urls through for loop. Scraping the Articles with above parameters"
   ]
  },
  {
   "cell_type": "code",
   "execution_count": 6,
   "metadata": {},
   "outputs": [
    {
     "name": "stdout",
     "output_type": "stream",
     "text": [
      "Wall time: 38.1 sailysun.co.za/Sunday-Sun/babalas-for-bucs-20170701nks-too-much-20141204?mobile=true\n"
     ]
    }
   ],
   "source": [
    "%%time\n",
    "for index, url in enumerate(urls):\n",
    "    try:\n",
    "        # Parse the url to NewsPlease \n",
    "        soup = BeautifulSoup(get(url).text, 'lxml')\n",
    "        article = Article(url)\n",
    "        article.download()\n",
    "        article.parse()\n",
    "        article.nlp()\n",
    "        \n",
    "        # Extracts the Headlines\n",
    "        try:\n",
    "            try:\n",
    "                headlines.append(soup.select_one('meta[property=\"og:title\"]')['content'].strip())\n",
    "            except:\n",
    "                headlines.append(article.title.strip())\n",
    "        except:\n",
    "            headlines.append(None)\n",
    "            \n",
    "        # Extracts the Descriptions    \n",
    "        try:\n",
    "            try:\n",
    "                descriptions.append(soup.select_one('meta[name=\"description\"]')['content'].strip().replace('\\n', ' '))\n",
    "            except:\n",
    "                descriptions.append(article.meta_description.strip())\n",
    "        except:\n",
    "            descriptions.append(None)\n",
    "            \n",
    "        # Extracts the Authors\n",
    "        try:\n",
    "            try:\n",
    "                authors.append(soup.select_one('meta[name=\"cXenseParse:tss-byline\"]')['content'].strip())\n",
    "            except:\n",
    "                authors.append(article.authors.strip())\n",
    "        except:\n",
    "            authors.append(None)\n",
    "        \n",
    "        # Extracts the published dates\n",
    "        try:\n",
    "            try:\n",
    "                dates.append(soup.select_one('meta[name=\"cXenseParse:recs:publishtime\"]')['content'].strip())\n",
    "            except:\n",
    "                dates.append(str(article.publish_date))\n",
    "        except:\n",
    "            dates.append(None)\n",
    "            \n",
    "        # Extracts the news articles\n",
    "        try:\n",
    "            try:\n",
    "                news.append(soup.select_one('div.content').text.replace('\\n', '').strip())\n",
    "            except:\n",
    "                news.append(article.text.strip())\n",
    "        except:\n",
    "            news.append(None)\n",
    "            \n",
    "        # Extracts the news category\n",
    "        try:\n",
    "            category.append(article.meta_data['category'])\n",
    "        except:\n",
    "            category.append(None)\n",
    "            \n",
    "        # Extracts the news publication\n",
    "        try:\n",
    "            publication.append(article.meta_data['og']['site_name'])\n",
    "        except:\n",
    "            publication.append(None)\n",
    "\n",
    "        # Extracts Keywords and Summaries\n",
    "        try:\n",
    "            keywords.append(article.keywords)\n",
    "            summaries.append(article.summary)\n",
    "        except:\n",
    "            keywords.append(None)\n",
    "            summaries.append(None)\n",
    "                        \n",
    "    except:\n",
    "        headlines.append(None)\n",
    "        descriptions.append(None)\n",
    "        authors.append(None)\n",
    "        dates.append(None)\n",
    "        category.append(None)\n",
    "        publication.append(None)\n",
    "        news.append(None)\n",
    "        keywords.append(None)\n",
    "        summaries.append(None)\n",
    "\n",
    "    sys.stdout.write('\\r' + str(index) + ' : ' + str(url) + '\\r')\n",
    "    sys.stdout.flush()"
   ]
  },
  {
   "cell_type": "markdown",
   "metadata": {},
   "source": [
    "### Checking Array Length of each list to create DataFrame"
   ]
  },
  {
   "cell_type": "code",
   "execution_count": 7,
   "metadata": {},
   "outputs": [
    {
     "name": "stdout",
     "output_type": "stream",
     "text": [
      "9 9 9 9 9 9 9 9 9 9\n"
     ]
    }
   ],
   "source": [
    "print(len(headlines), len(descriptions), len(authors), len(dates), len(category), len(publication), len(news), len(keywords), len(summaries), len(urls))"
   ]
  },
  {
   "cell_type": "markdown",
   "metadata": {},
   "source": [
    "### Creating a csv file after checking array length and droping the missing values from the dataset"
   ]
  },
  {
   "cell_type": "code",
   "execution_count": 8,
   "metadata": {},
   "outputs": [
    {
     "data": {
      "text/html": [
       "<div>\n",
       "<style scoped>\n",
       "    .dataframe tbody tr th:only-of-type {\n",
       "        vertical-align: middle;\n",
       "    }\n",
       "\n",
       "    .dataframe tbody tr th {\n",
       "        vertical-align: top;\n",
       "    }\n",
       "\n",
       "    .dataframe thead th {\n",
       "        text-align: right;\n",
       "    }\n",
       "</style>\n",
       "<table border=\"1\" class=\"dataframe\">\n",
       "  <thead>\n",
       "    <tr style=\"text-align: right;\">\n",
       "      <th></th>\n",
       "      <th>Headlines</th>\n",
       "      <th>Descriptions</th>\n",
       "      <th>Authors</th>\n",
       "      <th>Published_Dates</th>\n",
       "      <th>Publication</th>\n",
       "      <th>Articles</th>\n",
       "      <th>category</th>\n",
       "      <th>Keywords</th>\n",
       "      <th>Summaries</th>\n",
       "      <th>Source_URLs</th>\n",
       "    </tr>\n",
       "  </thead>\n",
       "  <tbody>\n",
       "    <tr>\n",
       "      <th>0</th>\n",
       "      <td>BOOZE RUINS LIVES!</td>\n",
       "      <td>“THE wake-up call for me should have been the ...</td>\n",
       "      <td>Jabu Kumalo</td>\n",
       "      <td>2018-08-15T14:30:02.000Z</td>\n",
       "      <td>DailySun</td>\n",
       "      <td>“THE wake-up call for me should have been the ...</td>\n",
       "      <td>{}</td>\n",
       "      <td>[aa, booze, hit, lives, decided, involved, rui...</td>\n",
       "      <td>He told Daily Sun he sometimes couldn’t believ...</td>\n",
       "      <td>https://www.dailysun.co.za/News/National/booze...</td>\n",
       "    </tr>\n",
       "    <tr>\n",
       "      <th>1</th>\n",
       "      <td>ALCOHOLICS, IT'S NEVER TOO LATE!</td>\n",
       "      <td>IF YOU have a drinking problem or you know som...</td>\n",
       "      <td>Jabu Kumalo</td>\n",
       "      <td>2017-10-11T15:30:03.000Z</td>\n",
       "      <td>DailySun</td>\n",
       "      <td>IF YOU have a drinking problem or you know som...</td>\n",
       "      <td>{}</td>\n",
       "      <td>[west, alcoholics, visit, thought, late, probl...</td>\n",
       "      <td>IF YOU have a drinking problem or you know som...</td>\n",
       "      <td>https://www.dailysun.co.za/News/National/alcoh...</td>\n",
       "    </tr>\n",
       "    <tr>\n",
       "      <th>2</th>\n",
       "      <td>NO BOOZE FOR THESE TWO!</td>\n",
       "      <td>SUNDAY was a joyful day as a husband and wife ...</td>\n",
       "      <td>Jabu Kumalo</td>\n",
       "      <td>2018-10-03T18:00:10.000Z</td>\n",
       "      <td>DailySun</td>\n",
       "      <td>SUNDAY was a joyful day as a husband and wife ...</td>\n",
       "      <td>{}</td>\n",
       "      <td>[anonymous, times, alcoholics, booze, wife, so...</td>\n",
       "      <td>SUNDAY was a joyful day as a husband and wife ...</td>\n",
       "      <td>https://www.dailysun.co.za/News/National/no-bo...</td>\n",
       "    </tr>\n",
       "    <tr>\n",
       "      <th>3</th>\n",
       "      <td>Follow Kuli on Twitter:@kuliroberts</td>\n",
       "      <td>CAN married men please spend Valentine’s Day w...</td>\n",
       "      <td></td>\n",
       "      <td>2018-02-11T06:00:11.000Z</td>\n",
       "      <td>DailySun</td>\n",
       "      <td>CAN married men please spend Valentine’s Day w...</td>\n",
       "      <td>{}</td>\n",
       "      <td>[follow, away, men, date, ladies, dont, day, t...</td>\n",
       "      <td>CAN married men please spend Valentine’s Day w...</td>\n",
       "      <td>https://www.dailysun.co.za/News/Eidos/follow-k...</td>\n",
       "    </tr>\n",
       "    <tr>\n",
       "      <th>4</th>\n",
       "      <td>A SEASON TO SOBER UP!</td>\n",
       "      <td>MZANSI is known as a nation of boozers.</td>\n",
       "      <td>Sifiso Jimta</td>\n",
       "      <td>2018-09-05T11:30:02.000Z</td>\n",
       "      <td>DailySun</td>\n",
       "      <td>MZANSI is known as a nation of boozers.To give...</td>\n",
       "      <td>{}</td>\n",
       "      <td>[season, janet, soberspringchallenge, im, help...</td>\n",
       "      <td>The organisation has launched the #SoberSpring...</td>\n",
       "      <td>https://www.dailysun.co.za/News/National/a-sea...</td>\n",
       "    </tr>\n",
       "  </tbody>\n",
       "</table>\n",
       "</div>"
      ],
      "text/plain": [
       "                             Headlines  \\\n",
       "0                   BOOZE RUINS LIVES!   \n",
       "1     ALCOHOLICS, IT'S NEVER TOO LATE!   \n",
       "2              NO BOOZE FOR THESE TWO!   \n",
       "3  Follow Kuli on Twitter:@kuliroberts   \n",
       "4                A SEASON TO SOBER UP!   \n",
       "\n",
       "                                        Descriptions       Authors  \\\n",
       "0  “THE wake-up call for me should have been the ...   Jabu Kumalo   \n",
       "1  IF YOU have a drinking problem or you know som...   Jabu Kumalo   \n",
       "2  SUNDAY was a joyful day as a husband and wife ...   Jabu Kumalo   \n",
       "3  CAN married men please spend Valentine’s Day w...                 \n",
       "4            MZANSI is known as a nation of boozers.  Sifiso Jimta   \n",
       "\n",
       "            Published_Dates Publication  \\\n",
       "0  2018-08-15T14:30:02.000Z    DailySun   \n",
       "1  2017-10-11T15:30:03.000Z    DailySun   \n",
       "2  2018-10-03T18:00:10.000Z    DailySun   \n",
       "3  2018-02-11T06:00:11.000Z    DailySun   \n",
       "4  2018-09-05T11:30:02.000Z    DailySun   \n",
       "\n",
       "                                            Articles category  \\\n",
       "0  “THE wake-up call for me should have been the ...       {}   \n",
       "1  IF YOU have a drinking problem or you know som...       {}   \n",
       "2  SUNDAY was a joyful day as a husband and wife ...       {}   \n",
       "3  CAN married men please spend Valentine’s Day w...       {}   \n",
       "4  MZANSI is known as a nation of boozers.To give...       {}   \n",
       "\n",
       "                                            Keywords  \\\n",
       "0  [aa, booze, hit, lives, decided, involved, rui...   \n",
       "1  [west, alcoholics, visit, thought, late, probl...   \n",
       "2  [anonymous, times, alcoholics, booze, wife, so...   \n",
       "3  [follow, away, men, date, ladies, dont, day, t...   \n",
       "4  [season, janet, soberspringchallenge, im, help...   \n",
       "\n",
       "                                           Summaries  \\\n",
       "0  He told Daily Sun he sometimes couldn’t believ...   \n",
       "1  IF YOU have a drinking problem or you know som...   \n",
       "2  SUNDAY was a joyful day as a husband and wife ...   \n",
       "3  CAN married men please spend Valentine’s Day w...   \n",
       "4  The organisation has launched the #SoberSpring...   \n",
       "\n",
       "                                         Source_URLs  \n",
       "0  https://www.dailysun.co.za/News/National/booze...  \n",
       "1  https://www.dailysun.co.za/News/National/alcoh...  \n",
       "2  https://www.dailysun.co.za/News/National/no-bo...  \n",
       "3  https://www.dailysun.co.za/News/Eidos/follow-k...  \n",
       "4  https://www.dailysun.co.za/News/National/a-sea...  "
      ]
     },
     "execution_count": 8,
     "metadata": {},
     "output_type": "execute_result"
    }
   ],
   "source": [
    "if len(headlines) == len(descriptions) == len(authors) == len(dates) == len(news) == len(publication) == len(keywords) == len(summaries) == len(urls) == len(category):\n",
    "    tbl = pd.DataFrame({'Headlines' : headlines,\n",
    "                        'Descriptions' : descriptions,\n",
    "                        'Authors' : authors,\n",
    "                        'Published_Dates' : dates,\n",
    "                        'Publication' : publication,\n",
    "                        'Articles' : news,\n",
    "                        'category' : category,\n",
    "                        'Keywords' : keywords,\n",
    "                        'Summaries' : summaries,\n",
    "                        'Source_URLs' : urls})\n",
    "    tbl.dropna()\n",
    "    path = 'C:\\\\Users\\\\GM\\\\Desktop\\\\!Code!\\\\CDRI\\\\Alcoholics Anonymous\\\\Data Extraction\\\\#Dataset\\\\'\n",
    "    tbl.to_csv(path+'Daily_Sun.csv', index=False)\n",
    "else:\n",
    "    print('Array lenght does not match!')\n",
    "\n",
    "tbl.head()"
   ]
  },
  {
   "cell_type": "code",
   "execution_count": 9,
   "metadata": {},
   "outputs": [
    {
     "data": {
      "text/plain": [
       "(9, 10)"
      ]
     },
     "execution_count": 9,
     "metadata": {},
     "output_type": "execute_result"
    }
   ],
   "source": [
    "tbl.shape"
   ]
  },
  {
   "cell_type": "code",
   "execution_count": null,
   "metadata": {},
   "outputs": [],
   "source": []
  }
 ],
 "metadata": {
  "kernelspec": {
   "display_name": "Python 3",
   "language": "python",
   "name": "python3"
  },
  "language_info": {
   "codemirror_mode": {
    "name": "ipython",
    "version": 3
   },
   "file_extension": ".py",
   "mimetype": "text/x-python",
   "name": "python",
   "nbconvert_exporter": "python",
   "pygments_lexer": "ipython3",
   "version": "3.7.1"
  }
 },
 "nbformat": 4,
 "nbformat_minor": 2
}
